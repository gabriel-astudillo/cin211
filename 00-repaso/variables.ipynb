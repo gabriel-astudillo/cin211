{
 "cells": [
  {
   "cell_type": "markdown",
   "id": "e6006a31-8256-47ea-8d3a-e20327d6c5d0",
   "metadata": {},
   "source": [
    "# Variables"
   ]
  },
  {
   "cell_type": "markdown",
   "id": "40ab79ff-66bc-497f-bcac-aa073f7e71b9",
   "metadata": {},
   "source": [
    "En los lenguajes de programación, las `variables` permiten almacenar los datos temporales que permiten lograr el objetivo del algoritmo. Estos datos temporales se almacenan en una parte del computador que se llama **Memoria RAM**."
   ]
  },
  {
   "cell_type": "markdown",
   "id": "91d3a4f5-7d82-4cca-b86b-eb4a3c4dbad4",
   "metadata": {},
   "source": [
    "La Memoria RAM está constituída por celdas, tal como se muestra en la siguiente figura. En esta representación, cada celda puede almacenar un conjunto limitado de bits. El tamaño estándar que tienen estas celdas son de 8 bits o 1 Byte."
   ]
  },
  {
   "cell_type": "markdown",
   "id": "dc512827-97bc-49e2-b358-7459c1396746",
   "metadata": {},
   "source": [
    " <table style=\"border-collapse: collapse; width: 100%;\">\n",
    "        <tr>\n",
    "            <td style=\"border: 1px solid black; height: 40px; text-align: center;\">. . .</td>\n",
    "            <td style=\"border: 1px solid black; height: 40px; text-align: center;\"></td>\n",
    "            <td style=\"border: 1px solid black; height: 40px; text-align: center;\"></td>\n",
    "            <td style=\"border: 1px solid black; height: 40px; text-align: center;\"></td>\n",
    "            <td style=\"border: 1px solid black; height: 40px; text-align: center;\"></td>\n",
    "            <td style=\"border: 1px solid black; height: 40px; text-align: center;\"></td>\n",
    "            <td style=\"border: 1px solid black; height: 40px; text-align: center;\"></td>\n",
    "            <td style=\"border: 1px solid black; height: 40px; text-align: center;\"></td>\n",
    "            <td style=\"border: 1px solid black; height: 40px; text-align: center;\"></td>\n",
    "            <td style=\"border: 1px solid black; height: 40px; text-align: center;\"></td>\n",
    "        </tr>\n",
    "        <tr>\n",
    "            <td style=\"border: 1px solid black; height: 40px; text-align: center;\"></td>\n",
    "            <td style=\"border: 1px solid black; height: 40px; text-align: center;\"></td>\n",
    "            <td style=\"border: 1px solid black; height: 40px; text-align: center;\"></td>\n",
    "            <td style=\"border: 1px solid black; height: 40px; text-align: center;\"></td>\n",
    "            <td style=\"border: 1px solid black; height: 40px; text-align: center;\"></td>\n",
    "            <td style=\"border: 1px solid black; height: 40px; text-align: center;\"></td>\n",
    "            <td style=\"border: 1px solid black; height: 40px; text-align: center;\"></td>\n",
    "            <td style=\"border: 1px solid black; height: 40px; text-align: center;\"></td>\n",
    "            <td style=\"border: 1px solid black; height: 40px; text-align: center;\"></td>\n",
    "            <td style=\"border: 1px solid black; height: 40px; text-align: center;\"></td>\n",
    "        </tr>\n",
    "        <tr>\n",
    "            <td style=\"border: 1px solid black; height: 40px; text-align: center;\"></td>\n",
    "            <td style=\"border: 1px solid black; height: 40px; text-align: center;\"></td>\n",
    "            <td style=\"border: 1px solid black; height: 40px; text-align: center;\"></td>\n",
    "            <td style=\"border: 1px solid black; height: 40px; text-align: center;\"></td>\n",
    "            <td style=\"border: 1px solid black; height: 40px; text-align: center;\"></td>\n",
    "            <td style=\"border: 1px solid black; height: 40px; text-align: center;\"></td>\n",
    "            <td style=\"border: 1px solid black; height: 40px; text-align: center;\"></td>\n",
    "            <td style=\"border: 1px solid black; height: 40px; text-align: center;\"></td>\n",
    "            <td style=\"border: 1px solid black; height: 40px; text-align: center;\"></td>\n",
    "            <td style=\"border: 1px solid black; height: 40px; text-align: center;\"></td>\n",
    "        </tr>\n",
    "        <tr>\n",
    "            <td style=\"border: 1px solid black; height: 40px; text-align: center;\"></td>\n",
    "            <td style=\"border: 1px solid black; height: 40px; text-align: center;\"></td>\n",
    "            <td style=\"border: 1px solid black; height: 40px; text-align: center;\"></td>\n",
    "            <td style=\"border: 1px solid black; height: 40px; text-align: center;\"></td>\n",
    "            <td style=\"border: 1px solid black; height: 40px; text-align: center;\"></td>\n",
    "            <td style=\"border: 1px solid black; height: 40px; text-align: center;\"></td>\n",
    "            <td style=\"border: 1px solid black; height: 40px; text-align: center;\"></td>\n",
    "            <td style=\"border: 1px solid black; height: 40px; text-align: center;\"></td>\n",
    "            <td style=\"border: 1px solid black; height: 40px; text-align: center;\"></td>\n",
    "            <td style=\"border: 1px solid black; height: 40px; text-align: center;\">. . .</td>\n",
    "        </tr>\n",
    "    </table>"
   ]
  },
  {
   "cell_type": "markdown",
   "id": "03c05e86-1110-4043-a6fc-0f23f8d7c2c3",
   "metadata": {},
   "source": [
    "Por otro lado, una variable se puede conceptualizar como una **caja** que puede almacenar contenido y que puede ser individualizada a través de un nombre."
   ]
  },
  {
   "cell_type": "markdown",
   "id": "e8df1b9b-d59c-4d86-90e3-93a8c961a039",
   "metadata": {},
   "source": [
    "```mermaid\n",
    "flowchart LR\n",
    "    nombre[Nombre de la variable]\n",
    "\n",
    "    subgraph bloque [Caja]\n",
    "    celda[\"Dato almacenado\"]\n",
    "    end\n",
    "\n",
    "    nombre -.-> bloque\n",
    "\n",
    "    style nombre fill:#FFFFFF,stroke:#FFFFFF\n",
    "```"
   ]
  },
  {
   "cell_type": "markdown",
   "id": "5a9ca6b8-76b5-4494-99e5-66cf8b001f87",
   "metadata": {},
   "source": [
    "A su vez, el dato almacenado va a utilizar una o más celdas de memoria. Esto va a depender del **tipo de dato** de la variable. Esto significa que el tipo de dato influye en el tamaño que va a tener la caja que se esté utilizando."
   ]
  },
  {
   "cell_type": "markdown",
   "id": "3bfed241-3adb-4875-a7c1-173d5224abbc",
   "metadata": {},
   "source": [
    "```mermaid\n",
    "flowchart LR\n",
    "    nombre[Nombre de la variable]\n",
    "\n",
    "    subgraph bloque [Caja]\n",
    "    celda1[celda 1]\n",
    "    celda2[celda 2]\n",
    "    celdaJ[...]\n",
    "    celdaN[celda N]\n",
    "    end\n",
    "\n",
    "    nombre -.-> bloque\n",
    "\n",
    "    style nombre fill:#FFFFFF,stroke:#FFFFFF\n",
    "```"
   ]
  },
  {
   "cell_type": "markdown",
   "id": "41d15de2-8620-4a33-a169-767c693425d3",
   "metadata": {},
   "source": [
    "Lenguajes como C++ y Java necesitan que las variables sean declaradas con su respectivo tipo de datos. Estos lenguajes se llaman **Lenguajes Tipados Estáticamente**. Por otro lado, existen los **lenguajes Tipados Dinámicamente**. En este caso, los tipos de las variables se determinan cuando el programa se ejecuta. No es necesario declarar el tipo de una variable. Una buena práctica es dejar un comentario en el código explicando el tipo de datos que la persona que programa establece para una variable en estos casos."
   ]
  },
  {
   "cell_type": "markdown",
   "id": "c08cb4ce",
   "metadata": {},
   "source": [
    "Por ejemplo, en C++ y Java, el siguiente código declara una variable entera que se llama `edad`.\n",
    "><pre>\n",
    ">// Ejemplo de creación de variable en C++ o Java\n",
    ">//\n",
    ">int edad;\n",
    ">\n",
    ">edad = 20;\n",
    "></pre>\n",
    "\n",
    "En python, sólo bastaría asignar la candidad a la variable:\n",
    "\n",
    "><pre>\n",
    "># Ejemplo de creación de variable en Python\n",
    ">#\n",
    ">edad = 20\n",
    "></pre>\n",
    "\n",
    "pero se suguiere, dentro de lo posible, que se establezca el tipo de datos. Esto se puede hacer de la siguiente manera:\n",
    "\n",
    "><pre>\n",
    "># Ejemplo de creación de variable en Python\n",
    ">#\n",
    ">edad: int\n",
    ">\n",
    ">edad = 20\n",
    "></pre>"
   ]
  }
 ],
 "metadata": {
  "kernelspec": {
   "display_name": "Python 3 (ipykernel)",
   "language": "python",
   "name": "python3"
  }
 },
 "nbformat": 4,
 "nbformat_minor": 5
}
