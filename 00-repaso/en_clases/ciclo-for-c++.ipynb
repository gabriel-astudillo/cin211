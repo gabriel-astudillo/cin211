{
 "cells": [
  {
   "cell_type": "markdown",
   "metadata": {},
   "source": [
    "El siguiente código es un ejemplo de ciclo for en C++. Debe observar que el incremento de la variable de control en cada iteración se establece después del segundo `;` y antes del paréntesis de cierre `)`. En este caso, la variable de control se aumenta en 0.1 cada vez."
   ]
  },
  {
   "cell_type": "code",
   "execution_count": null,
   "metadata": {
    "vscode": {
     "languageId": "cpp"
    }
   },
   "outputs": [],
   "source": [
    "#include <iostream>\n",
    "\n",
    "float control;\n",
    "control = 100;\n",
    "\n",
    "double ultimoValor;\n",
    "for(double control = 0; control < 5; control = control + 0.1){\n",
    "    std::cout << control << \"\\n\";\n",
    "\n",
    "    ultimoValor = control;\n",
    "}\n",
    "\n",
    "std::cout << \"Después del for\\n\";\n",
    "std::cout << \"El ultimo valor de la variable de contrl es = \" << ultimoValor << \"\\n\";\n",
    "\n"
   ]
  }
 ],
 "metadata": {
  "kernelspec": {
   "display_name": "C++17",
   "language": "C++17",
   "name": "xcpp17"
  },
  "language_info": {
   "codemirror_mode": "text/x-c++src",
   "file_extension": ".cpp",
   "mimetype": "text/x-c++src",
   "name": "c++",
   "version": "17"
  }
 },
 "nbformat": 4,
 "nbformat_minor": 2
}
