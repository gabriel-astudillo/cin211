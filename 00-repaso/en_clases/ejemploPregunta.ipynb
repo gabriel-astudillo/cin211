{
 "cells": [
  {
   "cell_type": "markdown",
   "metadata": {},
   "source": [
    "¿Cuál de estos código está escrito en Java?\n",
    "\n",
    "## Código A\n",
    "><pre>\n",
    ">double funcionPrueba(){\n",
    ">    int deudaCAE = 0;\n",
    ">    edadEstudiante = 25;\n",
    ">    std::cout << \"Deuda CAE dentro de la funcion = \" << deudaCAE << \"\\n\";\n",
    ">    return(3.14);\n",
    ">}\n",
    "></pre>\n",
    "\n",
    "## Código B\n",
    "><pre>\n",
    ">double funcionPrueba(){\n",
    ">    int deudaCAE = 0;\n",
    ">    edadEstudiante = 25;\n",
    ">    System.out.println(\"Deuda CAE dentro de la funcion = \" + deudaCAE );\n",
    ">    return(3.14);\n",
    ">}\n",
    "></pre>\n",
    "\n",
    "## Código C\n",
    "><pre>\n",
    ">def funcionPrueba() -> float{\n",
    ">    deudaCAE = 0;\n",
    ">    edadEstudiante = 25;\n",
    ">    print(f\"Deuda CAE dentro de la funcion =  {deudaCAE}\" );\n",
    ">    return(3.14);\n",
    ">}\n",
    "></pre>"
   ]
  },
  {
   "cell_type": "markdown",
   "metadata": {},
   "source": []
  }
 ],
 "metadata": {
  "language_info": {
   "name": "python"
  }
 },
 "nbformat": 4,
 "nbformat_minor": 2
}
