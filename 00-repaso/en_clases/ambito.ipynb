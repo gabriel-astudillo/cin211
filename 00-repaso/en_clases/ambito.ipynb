{
 "cells": [
  {
   "cell_type": "markdown",
   "metadata": {},
   "source": [
    "Lo primero que hay que hacer para utilizar una variable es declararla. Por ejemplo, en **C++**:"
   ]
  },
  {
   "cell_type": "code",
   "execution_count": 2,
   "metadata": {
    "vscode": {
     "languageId": "cpp"
    }
   },
   "outputs": [],
   "source": [
    "#include <iostream>\n",
    "\n",
    "int edadEstudiante;\n",
    "int deudaCAE;\n",
    "\n",
    "edadEstudiante = 20;\n",
    "deudaCAE       = 12345678;"
   ]
  },
  {
   "cell_type": "code",
   "execution_count": 6,
   "metadata": {
    "vscode": {
     "languageId": "cpp"
    }
   },
   "outputs": [],
   "source": [
    "float funcionPrueba(){\n",
    "    int deudaCAE = 0;\n",
    "    edadEstudiante = 25;\n",
    "    //meQuieroIr = true;\n",
    "    std::cout << \"Deuda CAE dentro de la funcion = \" << deudaCAE << \"\\n\";\n",
    "    return(3.14);\n",
    "}"
   ]
  },
  {
   "cell_type": "code",
   "execution_count": 4,
   "metadata": {
    "vscode": {
     "languageId": "cpp"
    }
   },
   "outputs": [
    {
     "name": "stdout",
     "output_type": "stream",
     "text": [
      "Deuda CAE = 12345678\n",
      "Edad  = 20\n",
      "Deuda CAE dentro de la funcion = 0\n",
      "Deuda CAE = 12345678\n",
      "Edad  = 25\n"
     ]
    }
   ],
   "source": [
    "std::cout << \"Deuda CAE = \" << deudaCAE << \"\\n\";\n",
    "std::cout << \"Edad  = \" << edadEstudiante << \"\\n\";\n",
    "funcionPrueba();\n",
    "std::cout << \"Deuda CAE = \" << deudaCAE << \"\\n\";\n",
    "std::cout << \"Edad  = \" << edadEstudiante << \"\\n\";"
   ]
  },
  {
   "cell_type": "code",
   "execution_count": null,
   "metadata": {
    "vscode": {
     "languageId": "cpp"
    }
   },
   "outputs": [],
   "source": []
  }
 ],
 "metadata": {
  "kernelspec": {
   "display_name": "C++17",
   "language": "C++17",
   "name": "xcpp17"
  },
  "language_info": {
   "codemirror_mode": "text/x-c++src",
   "file_extension": ".cpp",
   "mimetype": "text/x-c++src",
   "name": "c++",
   "version": "17"
  }
 },
 "nbformat": 4,
 "nbformat_minor": 2
}
