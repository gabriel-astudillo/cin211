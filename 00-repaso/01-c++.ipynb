{
 "cells": [
  {
   "cell_type": "markdown",
   "id": "33ef4527-3418-45e9-8979-98fd90608063",
   "metadata": {},
   "source": [
    "# C++ básico"
   ]
  },
  {
   "cell_type": "markdown",
   "id": "65148a51-492a-4e6d-a3eb-4804e8f5e137",
   "metadata": {},
   "source": [
    "## Sintaxis básica"
   ]
  },
  {
   "cell_type": "markdown",
   "id": "471da6ac-d6af-4ac4-9f70-4f91a4168ecb",
   "metadata": {},
   "source": [
    "**C++** requiere que cada instrucción termina con un símbolo `;`. Los bloques de código (explicados más adelante), se especifican por los símbolos `{`y `}`. El símbolo `//` permite incluir comentarios a la derecha del mismo. También se pueden incluir comentarios multilíneas con los simbolos `/*` y `*/` Por ejemplo, el siguiente trozo de código es un código válido en C++:\n",
    "\n",
    "><pre>\n",
    ">/*\n",
    "> Este es un ejemplo de codigo\n",
    "> en C++\n",
    ">*/\n",
    ">double temperatura;\n",
    ">double temperaturaMaxima;\n",
    ">boolean normal;\n",
    ">    \n",
    ">temperatura = 20;\n",
    ">temperaturaMaxima = 40;\n",
    ">\n",
    ">// Se comprueba la temperatura\n",
    ">if( temperatura < temperaturaMaxima){\n",
    ">    normal = true;\n",
    ">}\n",
    ">else{\n",
    ">    normal = false;\n",
    ">}\n",
    "></pre>"
   ]
  },
  {
   "cell_type": "markdown",
   "id": "8bba56a7-0f02-422f-99ea-27cff6aa84af",
   "metadata": {},
   "source": [
    "## Operador de asignación"
   ]
  },
  {
   "cell_type": "markdown",
   "id": "9795356b-f2a1-431a-bf47-702b351d8e06",
   "metadata": {},
   "source": [
    "El operador de asignación `=` es sencillo, pero no tiene el mismo significado ni se comporta de la misma manera que el símbolo igual utilizado en matemáticas. En C++ (y otros lenguajes de programación),  `=` es un operador *binario* en el que el lado derecho es una expresión arbitrariamente compleja y el lado izquierdo es una variable.\n",
    "\n",
    "Por ejemplo, la expresión:\n",
    "\n",
    "`x = y + 5`\n",
    "\n",
    "se traduce como : \"sumar 5 al valor actual almacenado en y y luego almacenar el resultado en x\".\n",
    "\n",
    "|  Operador  | Significado |\n",
    "|-|-|\n",
    "| `=` | Asignación |"
   ]
  },
  {
   "cell_type": "markdown",
   "id": "5eeeab20-aef2-4710-abf8-94fa76be2eb5",
   "metadata": {},
   "source": [
    "## Tipo de datos<a name=\"tipo_datos\"></a>"
   ]
  },
  {
   "cell_type": "markdown",
   "id": "0e29ad48-922c-406f-a094-46c6857e1b44",
   "metadata": {},
   "source": [
    "Los tipo de datos de básicos que se van a utilizar al principio de la asignatura son enteros, float, double, booleanos y string. Para cada uno de ellos, las palabras reservadas del lenguaje son:\n",
    "\n",
    "><pre>\n",
    ">int\n",
    ">float\n",
    ">double\n",
    ">bool\n",
    ">std::string\n",
    "></pre>\n",
    "\n",
    "Por ejemplo:\n",
    "\n",
    "><pre>\n",
    ">int cantidad = 24;\n",
    ">float pi = 3.1415;\n",
    ">double eV = 1.6e-19;\n",
    ">bool salir = false;\n",
    ">std::string saludo = \"Hola\";\n",
    "></pre>\n",
    "\n",
    "C++ requiere que **TODAS** las variables estén definidas con su respectivo tipo de datos. En el caso particular de las cadenas, es necesario incluir la biblioteca `string` al principio del código.\n",
    "\n",
    "><pre>\n",
    ">#include &lt;string&gt;\n",
    "></pre>\n",
    "\n",
    "**Observación** La inclusión de bibliotecas no necesita que terminar con el símbolo `;`.\n",
    "\n",
    "Por ejemplo:\n",
    "><pre>\n",
    ">#include &lt;string&gt;\n",
    ">\n",
    ">int cantidad = 24;\n",
    ">float pi = 3.1415;\n",
    ">double eV = 1.6e-19;\n",
    ">bool salir = false;\n",
    ">std::string saludo = \"Hola\";\n",
    "</pre>\n",
    "\n",
    "Para que un string tenga un caracter especial (por ejemplo, `'`, `\"`, `\\`) se deben colocar a la izquierda el caracter '\\\\':\n",
    "\n",
    "| Secuencia de<br>Escape         | Significado                                  |\n",
    "|:--------------------------|:----------------------------------------------|\n",
    "| `\\\\`                     | Backslash (`\\`)                                |\n",
    "| `\\'`                     | Comillas simple (`'`)                        |\n",
    "| `\\\"`                     | Comillas doble (`\"`)                          |\n",
    "| `\\t`                     | Tabulación Horizontal ASCII (TAB)          |\n",
    "| `\\n`                     | Salto de línea                     |"
   ]
  },
  {
   "cell_type": "markdown",
   "id": "f6b446f0-b549-4609-b452-066c3feac9b2",
   "metadata": {},
   "source": [
    "## Mostrar mensajes "
   ]
  },
  {
   "cell_type": "markdown",
   "id": "9959d5a1-52cc-4307-8939-201e3d0c79de",
   "metadata": {
    "jp-MarkdownHeadingCollapsed": true
   },
   "source": [
    "Para mostrar mensajes, se debe utilizar la instrucción `std::cout`. Por ejemplo, para mostrar el contenido de una variable:\n",
    "\n",
    "><pre>\n",
    ">std::cout &lt;&lt; variable;\n",
    "></pre>\n",
    "\n",
    "Para realizar esta tarea, es necesario incluir la biblioteca `iostream` al principio del código.\n",
    "\n",
    "><pre>\n",
    ">#include &lt;iostream&gt;\n",
    "></pre>\n",
    "\n",
    "Por ejemplo, el siguiente ejemplo declara una variable de tipo `double` llamada cantidad, asignándole un valor de `4.56` y luego se muestra un mensaje:\n",
    "\n",
    "><pre>\n",
    ">#include &lt;iostream&gt;\n",
    ">\n",
    ">double cantidad;\n",
    ">\n",
    ">cantidad = 4.56;\n",
    ">\n",
    ">std::cout &lt;&lt; \"El valor de cantidad es: \" &lt;&lt; cantidad << \"\\n\";\n",
    "></pre>"
   ]
  },
  {
   "cell_type": "markdown",
   "id": "20e8a4f1",
   "metadata": {
    "vscode": {
     "languageId": "plaintext"
    }
   },
   "source": [
    "## Operadores aritméticos básicos"
   ]
  },
  {
   "cell_type": "markdown",
   "id": "b70a9097",
   "metadata": {},
   "source": [
    "|  Operador  | Significado |\n",
    "|-|-|\n",
    "| `+` | Suma |\n",
    "| `-` | Resta |\n",
    "| `*` | Multiplacación |\n",
    "| `/` | División |\n",
    "| `%` | Módulo |\n",
    "\n",
    "C++ **no tiene** un operador para potencias.  Se puede utilizar la función `pow(base, exponente)`, que está definida en la biblioteca `cmath`. Por ejemplo, si se quiere implementar la asignación $x \\leftarrow 2^8$:\n",
    "\n",
    ">#include &lt;cmath&gt;\n",
    ">\n",
    ">x = pow(2,8);"
   ]
  },
  {
   "cell_type": "markdown",
   "id": "a3a3a385",
   "metadata": {},
   "source": [
    "### Detalles para la división"
   ]
  },
  {
   "cell_type": "markdown",
   "id": "7de340c8",
   "metadata": {},
   "source": [
    "\n",
    "| Número en punto flotante | Punto flotanto y enteros | Números enteros |\n",
    "|-|-|-|\n",
    "|10.0 / 2.0 → 5.00000 | 10.0 / 2 → 5.00000 | 10 / 2 → 5 |\n",
    "| 5.0 / 3.0 → 1.66667 | 5 / 3.0 → 0.66667  | 5 / 3 → 1 (trunca) |\n",
    "| 9 / 10 → 0.90000    | 9.0 / 10 → 0.90000 |9 / 10 → 0 (trunca) |\n",
    "\n",
    "Si tiene dudas, el cuaderno soporta el ingreso directo de operaciones aritméticas para que pueda realizar pruebas.\n",
    "\n",
    "Además, puede forzar el tipo de datos del número a través de la **conversión de tipo de datos**. Esto se realiza colocando la expresión `(nuevoTipoDatos)` en el lado izquierdo del número o variable que se quiere convertir. Por ejemplo:\n",
    "\n",
    "| operación | resultado |\n",
    "|-|-|\n",
    "| 5 / 3 | 1 |\n",
    "| (double)5 / 3 | 1.66667 |"
   ]
  },
  {
   "cell_type": "markdown",
   "id": "c1c1afb9",
   "metadata": {},
   "source": [
    "# Estructura de bloques y alcance de variables"
   ]
  },
  {
   "cell_type": "markdown",
   "id": "d830a46b",
   "metadata": {},
   "source": [
    "## Definición"
   ]
  },
  {
   "cell_type": "markdown",
   "id": "bd885a98",
   "metadata": {},
   "source": [
    "\n",
    "Un **bloque** es una secuencia delimitada de instrucciones. Los lenguajes de programación delimitan bloques de muchas maneras. Por ejemplo, Python utiliza el símbolo `:` y tabulaciones. C++, Java, C# y muchos otros lenguajes de programación delimitan bloques con llaves de apertura y cierre: `{ ... }`. Estos son lenguajes estructurados en bloques, lo que significa que los programas escritos en estos lenguajes constan de bloques, que forman cuerpos de funciones, instrucciones en bloque o compuestas, clases, etc. Comprender los bloques es fundamental para comprender el comportamiento de estos lenguajes.\n",
    "\n",
    "En el código de ejemplo, se muestro un ciclo `for`. El cuerpo del ciclo está encerrado en un bloque. Para la asignatura, los bloques **SIEMPRE** van delimitados por llaves y no hay excepciones. Además, se exije que los bloques estén identados, a pesar que **C++** no lo requiere. Esto es para mantener la claridad del código."
   ]
  },
  {
   "cell_type": "code",
   "execution_count": null,
   "id": "b9eea06d",
   "metadata": {
    "vscode": {
     "languageId": "java"
    }
   },
   "outputs": [],
   "source": [
    "#include <iostream>\n",
    "\n",
    "int i;\n",
    "\n",
    "for(i=0; i < 10; i++){\n",
    "    std::cout << \"Hola: \" << i << \"\\n\";\n",
    "}"
   ]
  },
  {
   "cell_type": "markdown",
   "id": "73488df2",
   "metadata": {},
   "source": [
    "## Ámbito de variables"
   ]
  },
  {
   "cell_type": "markdown",
   "id": "645953bd",
   "metadata": {},
   "source": [
    "Un bloque también define **ámbito** de las variables definidas dentro de él. Una variable dentro de un bloque es **distinta** a una variable con el mismo nombre fuera de ese bloque.\n",
    "\n",
    "Por ejemplo, en el código siguiente, se definen dos variables, `i` y `j`. Luego, se le asignan ciertos valores. En la función `prueba()`, se define una **nueva variable** cuyo nombre es `i`. El compilador del lenguaje no genera error, ya que, como se mencionó, este variable esta definida dentro de un bloque distinto y tiene otro **ámbito**. Esto significa que esta variable es **local** al bloque y no tiene ninguna relación con el bloque externo.\n",
    "\n",
    "Con respecto a la variable `j`, ésta se actualiza en el bloque. Esto es válido, ya que `j` es **global** con respecto al bloque definido. Esto significa que las variables **globales** son visibles dentro de los bloques definidos al interior, mientras que las variables **locales** no se pueden acceder desde fuera del bloque donde fueron definidas."
   ]
  },
  {
   "cell_type": "code",
   "execution_count": 18,
   "id": "362fcdf3",
   "metadata": {
    "vscode": {
     "languageId": "java"
    }
   },
   "outputs": [],
   "source": [
    "#include <iostream>\n",
    "\n",
    "int i,j; // estas variables son globales, ya que están definidas fuera del ámbito de una función."
   ]
  },
  {
   "cell_type": "code",
   "execution_count": 19,
   "id": "82b71d89",
   "metadata": {
    "vscode": {
     "languageId": "java"
    }
   },
   "outputs": [],
   "source": [
    "void prueba(){ // Bloque de la función prueba()\n",
    "    int i; // Esta variable es local y sólo se puede usar dentro de la función\n",
    "    i = 20;\n",
    "\n",
    "    j = 12; // Esta variable es global.\n",
    "    std::cout << \"Variable i definida dentro del bloque: \" << i << \"\\n\";\n",
    "    std::cout << \"Variable j usada    dentro del bloque: \" << j << \"\\n\";\n",
    "}"
   ]
  },
  {
   "cell_type": "code",
   "execution_count": null,
   "id": "880a2f1b",
   "metadata": {
    "vscode": {
     "languageId": "java"
    }
   },
   "outputs": [],
   "source": [
    "i = 10;\n",
    "j = 11;\n",
    "std::cout << \"Variable i (fuera del bloque): \" << i << \"\\n\";\n",
    "std::cout << \"Variable j (fuera del bloque): \" << j << \"\\n\";\n",
    "\n",
    "//invocar a la función prueba()\n",
    "prueba();\n",
    "\n",
    "std::cout << \"Valor final de i (fuera del bloque): \" << i << \"\\n\";\n",
    "std::cout << \"Valor final de j (fuera del bloque): \" << j << \"\\n\";\n",
    "\n"
   ]
  },
  {
   "cell_type": "markdown",
   "id": "8f86df15",
   "metadata": {},
   "source": [
    ">**Nota**: los ejemplos que se entregan en este y otros cuadernos, se pueden ejecutar y la idea es que usted experimento con ellos. Para aprovechar aún más su tiempo, intente determinar la salida del código **antes** de ejecutarlo. Después de ejectuarlo, analice la salida. Si tiene dudas, consulte con su profesor o ayudante."
   ]
  },
  {
   "cell_type": "markdown",
   "id": "a14f8de1",
   "metadata": {},
   "source": [
    "## Bloques y ámbito de variables"
   ]
  },
  {
   "cell_type": "markdown",
   "id": "72c6bbc2",
   "metadata": {},
   "source": [
    "El **ámbito** de una variable es la parte de un programa en la que la variable es visible y utilizable. Cuando una variable se define dentro de un *bloque*, su ámbito se limita a ese bloque; es decir, una variable definida dentro de un bloque no es visible ni accesible fuera del bloque que la define. Se puede crear un nuevo bloque en cualquier parte de un programa, incluso dentro de otro bloque. Si los bloques se pueden anidar, entonces los ámbitos también se pueden anidar.\n",
    "\n",
    "><pre>\n",
    ">int contador = 20;\t\t\t\t// define y asigna la variable contador\n",
    ">\n",
    ">if (. . . ){\t\t\t\t\t// -- ámbito más externo\n",
    ">\tint contador;\t\t\t\t// define la variable contador. Esta es local al ámbito. \n",
    ">\t\t\t\t\t\t// No tiene relación con la variable contador definida fuera del ámbito.\n",
    ">\n",
    ">\tif(. . .){\t\t\t\t// -- ámbito intermedio\n",
    ">\t\tint x;\t\t\t\t// define x: local al ámbito\n",
    ">\t\tint y;\t\t\t\t// define y: local al ámbito\n",
    ">\n",
    ">\t\tif(. . .){\t\t\t// -- ámbito más interno\n",
    ">\t\t\tcontador = x + y;\t// utiliza la variables contador, x e y\n",
    ">\t\t\t. . .\n",
    ">\t\t}\n",
    ">\t}\n",
    ">}\n",
    ">\n",
    ">std::cout << \"contador=\" << contador << \"\\n\";  // Muestra el valor 20\n",
    "></pre>\n",
    "\n",
    "\n",
    "**Nota**: Los nombres de las variables deben ser únicos dentro de cada ámbito, lo que significa que definir múltiples variables con el mismo nombre en el mismo ámbito es un error en tiempo de compilación. Sin embargo, es posible, aunque potencialmente confuso, reutilizar un nombre de variable en ámbitos anidados:"
   ]
  },
  {
   "cell_type": "markdown",
   "id": "cf05f080",
   "metadata": {},
   "source": [
    "# Expresiones lógicas\n",
    "\n",
    "## Operadores relacionales\n",
    "\n",
    "Estos operadores comparar dos expresiones y retornan un valor lógico `true` o `false`.\n",
    "\n",
    "| Operador | Significado           |\n",
    "|----------|-----------------------|\n",
    "| `==`       | es igual a            |\n",
    "| `!=`       | no es igual a         |\n",
    "| `<`        | es menor que          |\n",
    "| `<=`       | es menor o igual que  |\n",
    "| `>`        | es mayor que          |\n",
    "| `>=`       | es mayor o igual que  |\n",
    "\n",
    "Esto operadores se suelen utilizar en sentencias de control (como ciclos `for` y sentencias `if`), que son el tema de las siguientes secciones. Las sentencias de control de **C++** son muy similares a las que conoce en **Java**.\n",
    "\n",
    "## Operadores lógicos\n",
    "\n",
    "| Operador | Significado     | Palabra clave alternativa |\n",
    "|----------|-----------------|---------------------------|\n",
    "| `!`      | negación lógico |         `not`             | \n",
    "| `&&`     | **Y** lógico    |         `and`             |\n",
    "| `\\|\\|`     | **O** lógico    |         `or`              |\n",
    "\n",
    "\n",
    "Asociado con los operadores lógicos, están las tablas de verdad respectivas.\n",
    "\n",
    "**Tabla de verdad *not***\n",
    "\n",
    "El operador ! cambia el valor lógico al valor contrario.\n",
    "\n",
    "|  $E_1$   |  $!E_1$  | \n",
    "|----------|---------|\n",
    "|  false   |  true  |\n",
    "|  true    |  false   | \n",
    "\n",
    "\n",
    "**Tabla de verdad *and***\n",
    "\n",
    "El operador && produce un resultado **true** sólo si ambas expresiones lógicas son **true**.\n",
    "\n",
    "|  $E_1$   |  $E_2$  |  $E_1 \\&\\& E_2$ |\n",
    "|----------|---------|-----------------|\n",
    "|  false   |  false  |      false      |\n",
    "|  false   |  true   |      false      |\n",
    "|  true    |  false  |      false      |\n",
    "|  true    |  true   |      true       |\n",
    "\n",
    "**Tabla de verdad *or***\n",
    "\n",
    "El operador \\|\\| produce un resultado **false** sólo si ambas expresiones lógicas son **false**.\n",
    "\n",
    "|  $E_1$   |  $E_2$  |  $E_1 \\|\\| E_2$ |\n",
    "|----------|---------|-----------------|\n",
    "|  false   |  false  |      false      |\n",
    "|  false   |  true   |      true       |\n",
    "|  true    |  false  |      true       |\n",
    "|  true    |  true   |      true       |\n",
    "\n",
    "\n",
    "\n",
    "Los operadores relacionales y lógicos se utilizan para implementar expresiones lógicas que pueden servir para controlar el flujo del programa, lo que se verá en las siguientes secciones:\n",
    "\n",
    "><pre>\n",
    ">if(contador != x + y && m / n > x * y) {. . .}\n",
    ">if(max < sqrt(x) || contador >= pow(x, y)){ . . .}\n",
    ">if(!encontrolSolucion) {. . .}\n",
    "></pre>\n",
    "\n",
    "## Tipo de dato lógico\n",
    "\n",
    "En **C++**, el tipo de dato para declarar que una variable es lógica, es `bool`. Las valores que puede adoptar son: `true` o  `false`. Ahora bien, también, cualquier valor **mayor que cero** es tratado como `true`. Un valor **cero** es tratado como `false`.\n",
    "\n",
    "El siguiente código muestra un ejemplo de uso de variables lógicas. Pruebe el comportamiento de programa asignando a la variable `test` números, strings, expresiones lógicas y analice el resultado."
   ]
  },
  {
   "cell_type": "code",
   "execution_count": null,
   "id": "1fd8f0f8",
   "metadata": {
    "vscode": {
     "languageId": "java"
    }
   },
   "outputs": [],
   "source": [
    "#include <iostream>\n",
    "\n",
    "// definición de una variable lógica\n",
    "bool test;\n",
    "\n",
    "// asignar un valor lógico\n",
    "test = true;\n",
    "\n",
    "// Hacer algo con esta variable\n",
    "if(test == true){\n",
    "    std::cout << \"test es verdadero\\n\";\n",
    "}\n",
    "else{\n",
    "    std::cout << \"test es falso\\n\";\n",
    "}"
   ]
  },
  {
   "cell_type": "markdown",
   "id": "520061e9-f04b-4ee4-926d-89a76be53430",
   "metadata": {
    "tags": []
   },
   "source": [
    "# Estructuras de control de flujo <a name=\"control\"></a>"
   ]
  },
  {
   "cell_type": "markdown",
   "id": "122ff23e",
   "metadata": {},
   "source": [
    "## Estructuras de decisión"
   ]
  },
  {
   "cell_type": "markdown",
   "id": "b19b1010",
   "metadata": {},
   "source": [
    "Las instrucciones `if` se encuentran entre las instrucciones de control más simples y fáciles de entender. A pesar de su simplicidad, las instrucciones `if` son poderosas y esenciales en los programas contemporáneos escritos en varios lenguajes de programación. Las instrucciones `if` siguen estos formatos:\n",
    "\n",
    "* Bloque `if` simple.\n",
    "* Bloque `if`-`else`.\n",
    "* Bloque `if`-`else` anidados."
   ]
  },
  {
   "cell_type": "markdown",
   "id": "c12fda76",
   "metadata": {},
   "source": [
    "### Bloque `if`"
   ]
  },
  {
   "cell_type": "markdown",
   "id": "cbe857b8",
   "metadata": {},
   "source": [
    "Una sentencia `if` simple ejecuta una único bloque de instrucciones según el resultado de una prueba lógica. Generalmente, estas pruebas tienen relación con en los valores almacenados en una o más variables del programa. Los resultados de estas pruebas cambian a medida que cambian los valores almacenados en las variables durante la ejecución del programa, lo que significa que las sentencias dentro de la sentencia `if` se ejecutan algunas veces, pero no otras.\n",
    "\n",
    "><pre>\n",
    ">if( pruebaLógica ){\n",
    ">    // Bloque de código que se ejecuta\n",
    ">    // cuando la pruebaLógica es Verdadera\n",
    ">}\n",
    "></pre>\n",
    "\n",
    "Ejemplos de pruebas lógicas pueden ser las siguientes:\n",
    "\n",
    "><pre>\n",
    ">if(contador == 0){. . .}\n",
    ">if(contador != x + y){. . .}\n",
    ">if(m / n > x * y){. . .}\n",
    ">if(max < sqrt(x)){. . .}\n",
    ">if(contador >= pow(x, y)){. . .}\n",
    ">if(contador <= 0){ . . .}\n",
    "></pre>"
   ]
  },
  {
   "cell_type": "markdown",
   "id": "da0dd79e",
   "metadata": {},
   "source": [
    "**Ejemplo**\n",
    "\n",
    "Explique la salida del siguiente código. "
   ]
  },
  {
   "cell_type": "code",
   "execution_count": null,
   "id": "5ab88761",
   "metadata": {
    "vscode": {
     "languageId": "java"
    }
   },
   "outputs": [],
   "source": [
    "#include <iostream>\n",
    "\n",
    "int\tx = 10;\n",
    "\n",
    "if (x > 0){\n",
    "    std::cout << \"x es mayor que 0\\n\";\n",
    "}\n",
    "\n",
    "if (x < 10){\n",
    "    std::cout << \"x es menor que 10\\n\";\n",
    "}"
   ]
  },
  {
   "cell_type": "markdown",
   "id": "abdfe5c5",
   "metadata": {},
   "source": [
    "\n",
    "### Bloque `if`-`else`\n",
    "\n",
    "La sentencia `else`, significa: \n",
    ">*De lo contrario, ejecute el bloque de intrucciones siguientes, sin evaluar ninguna expresión condicional*\n",
    "\n",
    "La estructura de este bloque es:\n",
    "\n",
    "><pre>\n",
    ">if( pruebaLógica ){\n",
    ">    // Bloque de código que se ejecuta\n",
    ">    // cuando la pruebaLógica es Verdadera\n",
    ">}\n",
    ">else{\n",
    ">    // Bloque de código que se ejecuta\n",
    ">    // cuando la pruebaLógica es Falsa\n",
    ">}\n",
    "></pre>"
   ]
  },
  {
   "cell_type": "code",
   "execution_count": null,
   "id": "4fd80328",
   "metadata": {
    "vscode": {
     "languageId": "java"
    }
   },
   "outputs": [],
   "source": [
    "#include <iostream>\n",
    "\n",
    "int\tx = 5;\n",
    "double\ty = 3.14;\n",
    "\n",
    "if (x > y && x != 10){\n",
    "    std::cout << \"true\\n\";}\n",
    "else{\n",
    "    std::cout << \"false\\n\";\n",
    "}"
   ]
  },
  {
   "cell_type": "markdown",
   "id": "80b2f732",
   "metadata": {},
   "source": [
    "### Bloques `if`-`else` anidados o en escalera"
   ]
  },
  {
   "cell_type": "markdown",
   "id": "d4039bd6",
   "metadata": {},
   "source": [
    "Una escalera `if`-`else` no introduce palabras clave ni símbolos adicionales. La instrucción forma cada nuevo \"peldaño\" de la escalera con una instrucción `if`-`else` anidada dentro de la parte `else` de la instrucción `if`-`else` anterior.\n",
    "\n",
    "**Ejemplo**"
   ]
  },
  {
   "cell_type": "code",
   "execution_count": null,
   "id": "d430b6cb",
   "metadata": {
    "vscode": {
     "languageId": "java"
    }
   },
   "outputs": [],
   "source": [
    "#include <iostream>\n",
    "\n",
    "int\tpuntaje = 67;\n",
    "\n",
    "if (puntaje >= 90){\n",
    "    std::cout << \"Excelente\\n\";\n",
    "}\n",
    "else if (puntaje >= 80 && puntaje < 90){\n",
    "    std::cout << \"Logrado\\n\";\n",
    "}\n",
    "else if (puntaje >= 70 && puntaje < 80){\n",
    "    std::cout << \"Bueno\\n\";\n",
    "}\n",
    "else if (puntaje >= 60 && puntaje < 70){\n",
    "    std::cout << \"Suficiente\\n\";\n",
    "}\n",
    "else if (puntaje < 60){\n",
    "    std::cout << \"Insuficiente\\n\";\n",
    "}"
   ]
  },
  {
   "cell_type": "markdown",
   "id": "cc5f2aaf-063f-46ec-8c6e-129bf95805af",
   "metadata": {},
   "source": [
    "### Bloque `switch`"
   ]
  },
  {
   "cell_type": "markdown",
   "id": "ae5a8a08-8588-4f32-8347-9c474a707bb2",
   "metadata": {},
   "source": [
    "Las pruebas de lógicas en los bloque `switch` son más limitadas que las disponibles para las instrucciones `if`, pero suelen ser compactas y concisas. \n",
    "La instrucción `switch`  es particular y no es la instrucción de control de flujo más utilizada, pero desempeñan un papel importante cuando es necesario. \n",
    "Una instrucción `switch` básica es relativamente simple y fácil de entender. Sin embargo, varias variaciones pueden hacer que esta instrucción sea complicada y difícil de entender.\n",
    "En esta asignatura, se utilizará en su forma elemental.\n",
    "\n",
    "La instrucción `switch` consta de dos elementos obligatorios:\n",
    "\n",
    "1. La palabra clave `switch` para declarar la expresión a evaluar. Esta expresión **sólo** debe evaluar un tipo de datos `entero`.\n",
    "2. Un conjunto de alternativas. \n",
    "    * Cada alternativa comienza con la palabra clave `case`, seguido por un valor entero y el símbolo `:`.\n",
    "    * Las instrucciones de la alternativa generalmente terminan en la intrucción `break`.\n",
    "    * También puede existir una alternativa por omisión llamada `default`. Esta se ejecuta si ninguna de las otras alternativas se cumple.\n",
    "\n",
    "\n",
    "**Ejemplo**:\n",
    "\n",
    "Analice el comportamiento del siguiente programa."
   ]
  },
  {
   "cell_type": "code",
   "execution_count": null,
   "id": "75318854",
   "metadata": {
    "vscode": {
     "languageId": "java"
    }
   },
   "outputs": [],
   "source": [
    "#include <iostream>\n",
    "\n",
    "int\ti = 12;\n",
    "\n",
    "switch (i){\n",
    "    case 1:\n",
    "        std::cout << \"valor 1\\n\";\n",
    "        break;\n",
    "    case 10  :\n",
    "        std::cout << \"valor 10\\n\";\n",
    "        break;\n",
    "    case 100 :\n",
    "        std::cout << \"valor 100\\n\";\n",
    "        break;\n",
    "    case 1000:\n",
    "        std::cout << \"valor 1000\\n\";\n",
    "        break;\n",
    "    default:\n",
    "        std::cout << \"cualquier otro valor\\n\";\n",
    "        break;\n",
    "}"
   ]
  },
  {
   "cell_type": "markdown",
   "id": "06299304",
   "metadata": {},
   "source": [
    "## Ciclos o bucles"
   ]
  },
  {
   "cell_type": "markdown",
   "id": "f28ca7fa",
   "metadata": {},
   "source": [
    "### Bloque `for`"
   ]
  },
  {
   "cell_type": "markdown",
   "id": "d0aea665",
   "metadata": {},
   "source": [
    "El comportamiento de los ciclo `for`, está determinado por una variable de control del ciclo. La variable tiene un valor inicial y uno final, y normalmente adquiere un valor diferente durante cada iteración del ciclo. El siguiente ejemplo muestra un ciclo for en **C++**.\n",
    "\n",
    "><pre>\n",
    ">for(int contador = 0; contador < 10; contador++)\n",
    ">\tstd::cout << contador << std::endl;\n",
    "></pre>\n",
    "\n",
    "La variable de control `contador` se define dentro de él, lo que restringe su ámbito al ciclo `for`. Por lo tanto, la variable de control queda fuera del alcance cuando el ciclo termina. Restringir el alcance de la variable de control del bucle reduce la posibilidad de *colisiones de nombres* (utilizar inadvertidamente los mismos nombres de variable en diferentes contextos), lo que minimiza los posibles errores en el código.\n",
    "\n",
    "Una de las ventajas de un bloque `for` es su notación compacta. Reúnen tres funciones de control en una sola ubicación, lo que hace que comprender el comportamiento del bucle sea relativamente fácil. Cada bucle for consta de tres partes:\n",
    "\n",
    "1. **Inicialización**: es la parte que define e inicializa la variable de control. En el ejemplo, la sentencia `int contador = 0` define la variable de control del ciclo y la inicializa en 0.\n",
    "2. **Comprobación**: es una expresión lógica que normalmente compara el valor de la variable de control  con algún valor. En el ejemplo, la parte de comprobación es `contador < 100`. Ejemplos de comprobación:\n",
    "    * `i < 10`\n",
    "    * `i <= valorMaximo`\n",
    "3. **Actualización**: esta parte actualiza el valor de la variable de control de tal manera que la prueba eventualmente se volverá falsa. Ejemplos de actualización:\n",
    "    * `i++`\n",
    "    * `i += 1`\n",
    "    * `i--`\n",
    "    * `i += 3`\n",
    "\n",
    "Para el siguiente ciclo, pruebe modicando las distintas partes, asignando otro valor de inicializar, de comprobación y de actualización. Recuerde que debe analizar la salida del código según las modificaciones que realice."
   ]
  },
  {
   "cell_type": "code",
   "execution_count": null,
   "id": "55d42f52",
   "metadata": {
    "vscode": {
     "languageId": "java"
    }
   },
   "outputs": [],
   "source": [
    "#include <iostream>\n",
    "\n",
    "for(int contador = 0; contador < 10; contador++){\n",
    "\tstd::cout << contador << \"\\n\";\n",
    "}"
   ]
  },
  {
   "cell_type": "markdown",
   "id": "c5567b69",
   "metadata": {},
   "source": [
    "### Bloque `while`"
   ]
  },
  {
   "cell_type": "markdown",
   "id": "cbe57dc0",
   "metadata": {},
   "source": [
    "La sintaxis de un ciclo `while` básico es sencilla, y solo requiere la palabra clave `while` y un paréntesis `( .. )` que rodeen una expresión  lógica. El programa evalúa la expresión lógica **antes** de cada iteración. Esto hace que los ciclos `while` realicen **0 o más iteraciones**. Se llaman ciclo *indefinidos* en el sentido de que el código puede no indicar explícitamente el número de iteraciones que se realizarán. La estructura general es:\n",
    "\n",
    "><pre>\n",
    ">// Inicialice la variable de control\n",
    ">while(expresionPrueba == true){\n",
    ">   // Haga lo que se define en estas instrucciones\n",
    ">   // ...\n",
    ">   // ...\n",
    ">\n",
    ">   // actualice la variable de control\n",
    ">}\n",
    "></pre>\n",
    "\n",
    "**Ejemplo**: En el siguiente código, se muestra un ciclo `while` cuya variable de control es `contador`, que se inicializa en 0. La fase de comprobación consiste en verificar que el valor de la variable de control sea menor que 10. En la parte de actualización, la variable de control se le suma 1."
   ]
  },
  {
   "cell_type": "code",
   "execution_count": 1,
   "id": "c2b2df63",
   "metadata": {
    "vscode": {
     "languageId": "cpp"
    }
   },
   "outputs": [
    {
     "name": "stdout",
     "output_type": "stream",
     "text": [
      "0 1 2 3 4 5 6 7 8 9 "
     ]
    }
   ],
   "source": [
    "#include <iostream>\n",
    "\n",
    "int contador = 0;\n",
    "while ((contador < 10) == true){\n",
    "\tstd::cout << contador << \" \";\n",
    "\tcontador++;\n",
    "}"
   ]
  },
  {
   "cell_type": "markdown",
   "id": "f8241b70",
   "metadata": {},
   "source": [
    ">**Nota**: Es normal que cuando se evalúe que la expresión lógica de prueba sea **verdadera**, se omita `== true`. Tomando en consideración esto, el código anterior queda como:"
   ]
  },
  {
   "cell_type": "code",
   "execution_count": null,
   "id": "36e77f6f",
   "metadata": {
    "vscode": {
     "languageId": "java"
    }
   },
   "outputs": [],
   "source": [
    "#include <iostream>\n",
    "\n",
    "int contador = 0;\n",
    "while (contador < 10){\n",
    "\tstd::cout << contador << \" \";\n",
    "\tcontador++;\n",
    "}"
   ]
  },
  {
   "cell_type": "markdown",
   "id": "87109300",
   "metadata": {},
   "source": [
    "Se sugiere que como ejercicio, transforme el ciclo while anterior en un ciclo for. Recuerde que para esto, se debe identificar la inicialización, la comprobación y la actualización de la variable de control."
   ]
  },
  {
   "cell_type": "markdown",
   "id": "e4ad459e",
   "metadata": {},
   "source": [
    "### Bloque `do`-`while`"
   ]
  },
  {
   "cell_type": "markdown",
   "id": "7844c641",
   "metadata": {},
   "source": [
    "Los bucles `do`-`while` son similares a los bucles `while`, pero evalúan la expresión de prueba en la parte inferior o final del ciclo después de ejecutar las instrucciones del bloque. \n",
    "\n",
    "La sintaxis `do`-`while` es un poco más compleja que la del ciclo `while`, pero sigue siendo relativamente simple. A diferencia de las estructuras anteriores, la sintaxis consta de dos palabras clave: `do` y `while` más la **expresión de prueba** colocada entre paréntesis. Un ciclo `do`-`while` se ejecuta mientras la expresión de prueba se evalúa como verdadera o distinta de cero. La siguiente figura ilustra el patrón básico del bucle do-while y su comportamiento lógico:\n",
    "\n",
    "><pre>\n",
    ">// Inicialice la variable de control\n",
    ">do{\n",
    ">    //instruccion1;\n",
    ">    //instruccion2;\n",
    ">    ...\n",
    ">    //instruccionN;\n",
    ">\n",
    ">   // actualice la variable de control\n",
    ">} while(expresionPrueba == true);\n",
    "</pre>"
   ]
  },
  {
   "cell_type": "markdown",
   "id": "4a7f729d",
   "metadata": {},
   "source": [
    "**Ejemplo**:"
   ]
  },
  {
   "cell_type": "code",
   "execution_count": null,
   "id": "d8f1de5b",
   "metadata": {
    "vscode": {
     "languageId": "java"
    }
   },
   "outputs": [],
   "source": [
    "#include <iostream>\n",
    "\n",
    "int\tcontador;\n",
    "\n",
    "contador = 10;\n",
    "do{\n",
    "\tstd::cout << \"contador=\" << contador << \"\\n\";\n",
    "    contador--;\n",
    "} while(contador > 0);"
   ]
  },
  {
   "cell_type": "markdown",
   "id": "dbb8b4d4",
   "metadata": {},
   "source": [
    "Se sugiere que como ejercicio, transforme el ciclo `do`-`while` anterior en un ciclo `for`. Recuerde que para esto, se debe identificar la inicialización, la comprobación y la actualización de la variable de control."
   ]
  },
  {
   "cell_type": "markdown",
   "id": "c98472a8",
   "metadata": {},
   "source": [
    "**Ejemplo**:"
   ]
  },
  {
   "cell_type": "code",
   "execution_count": null,
   "id": "4a2eb66d",
   "metadata": {
    "vscode": {
     "languageId": "java"
    }
   },
   "outputs": [],
   "source": [
    "#include <iostream>\n",
    "\n",
    "int\ti;\n",
    "\n",
    "i = 1000;\n",
    "do{\n",
    "\tstd::cout << \"i=\" << i << \"\\n\";\n",
    "    i++;\n",
    "} while(i <= 1020);"
   ]
  },
  {
   "cell_type": "markdown",
   "id": "eb19aecf-4184-47b3-81ce-d873b1ab9667",
   "metadata": {
    "tags": []
   },
   "source": [
    "# Funciones <a name=\"funciones\"></a>"
   ]
  },
  {
   "cell_type": "markdown",
   "id": "0fd03f67-adec-4ac0-b391-45581489486f",
   "metadata": {},
   "source": [
    "Como en todos los lenguajes, la función debe tiener una cabecera. En **C++**, se comienza por el tipo de dato que retorna, seguido por el nombre de la función y sus parámetros. Si los parámetros son más de uno, se deben separar con el caracter `,`. Cada parámetro debe tener especificado su tipo de datos. El cuerpo de la función se identifica por los caracteres `{` y `}`.\n",
    "\n",
    "><pre>\n",
    ">tipoDatoRetorno nombreFunción(parámetros) { ... }\n",
    "><pre>"
   ]
  },
  {
   "cell_type": "code",
   "execution_count": 3,
   "id": "e2e29a4b-bed6-4171-b2db-60d9dfb6c5b4",
   "metadata": {
    "tags": [],
    "vscode": {
     "languageId": "java"
    }
   },
   "outputs": [],
   "source": [
    "std::string parImpar(int N){\n",
    "    int i;\n",
    "    std::string resultado;\n",
    "    \n",
    "    i = N % 2;\n",
    "    \n",
    "    if(i == 0){\n",
    "        resultado = \"Es par\";\n",
    "    }\n",
    "    else{\n",
    "        resultado = \"Es impar\";\n",
    "    }\n",
    "    \n",
    "    return(resultado);\n",
    "}"
   ]
  },
  {
   "cell_type": "markdown",
   "id": "d1429e65",
   "metadata": {},
   "source": [
    "Para utilizar la función anterior, se debe invocar o llamar por su nombre y asignar un argumento (un valor) a cada parámetro declarado. Un ejemplo de llamada se muestra a continuación:"
   ]
  },
  {
   "cell_type": "code",
   "execution_count": null,
   "id": "6b0f1cce-b2bb-48c1-b752-1000a403e39b",
   "metadata": {
    "tags": [],
    "vscode": {
     "languageId": "java"
    }
   },
   "outputs": [],
   "source": [
    "std::string queSera;\n",
    "\n",
    "queSera = parImpar(10);\n",
    "\n",
    "std::cout << queSera << \"\\n\";"
   ]
  },
  {
   "cell_type": "markdown",
   "id": "47810a47-c0ff-4f62-bee4-4b9be1fc47fb",
   "metadata": {},
   "source": [
    "## Ejercicio resuelto <a name=\"ejercicio\"></a>\n",
    "\n",
    "**Diseñe** e **implemente** una función que se llame `esPar`, que detecte si un número es par. La función recibe un número entero y retorne un valor lógico: `true` para par, `false` para impar."
   ]
  },
  {
   "cell_type": "markdown",
   "id": "7ea5cd75",
   "metadata": {},
   "source": [
    "### Solución\n",
    "\n",
    "La función se debe llamar `esPar`, recibe un número entero y retorna un valor lógico. Por decisión de diseño, el parámetro se llamará `N` con un tipo de datos `int`. El tipo de datos del retorno, en este caso es `bool`. Luego, la cabecera es:\n",
    "\n",
    "`bool esPar(int N)`\n",
    "\n",
    "Por diseño, la función almacenerá el resultado de la decisión en una variable con nombre `resultado`. Para decidir si es par o no, se utilizará el operador módulo (`%`). El resultado de esta operación se almacenará en una variable de control (`i`). Si esta variable toma el valor 0, entonces el número ingresado como argumento es par, por lo que, en este caso, la variable `resultado` tendrá el valor lógico `true`. En otro caso, tendrá el valor lógico `false`.\n",
    "\n",
    "En base a lo anterior, la implementación de la función es:"
   ]
  },
  {
   "cell_type": "code",
   "execution_count": 5,
   "id": "2bcf4f31-3673-4c63-b90f-66d855290e25",
   "metadata": {
    "tags": [],
    "vscode": {
     "languageId": "java"
    }
   },
   "outputs": [],
   "source": [
    "bool esPar(int N){\n",
    "    int i;\n",
    "    bool resultado;\n",
    "    \n",
    "    i = N % 2;\n",
    "    \n",
    "    if(i == 0){\n",
    "        resultado = true;\n",
    "    }\n",
    "    else{\n",
    "        resultado = false;\n",
    "    }\n",
    "    \n",
    "    return(resultado);\n",
    "}"
   ]
  },
  {
   "cell_type": "markdown",
   "id": "c6a2b3b6",
   "metadata": {},
   "source": [
    "Como trabajo personal, agregue el código que permita probar la correcta operación de la función `esPar()`."
   ]
  }
 ],
 "metadata": {
  "kernelspec": {
   "display_name": "C++17",
   "language": "C++17",
   "name": "xcpp17"
  },
  "language_info": {
   "codemirror_mode": "text/x-c++src",
   "file_extension": ".cpp",
   "mimetype": "text/x-c++src",
   "name": "c++",
   "version": "17"
  }
 },
 "nbformat": 4,
 "nbformat_minor": 5
}
