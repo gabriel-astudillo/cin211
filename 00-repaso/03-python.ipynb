{
 "cells": [
  {
   "cell_type": "markdown",
   "id": "33ef4527-3418-45e9-8979-98fd90608063",
   "metadata": {},
   "source": [
    "# Python básico"
   ]
  },
  {
   "cell_type": "markdown",
   "id": "32d8df29-6254-44a3-ac7d-b4f15f2eda4f",
   "metadata": {},
   "source": [
    "## Sintaxis básica"
   ]
  },
  {
   "cell_type": "markdown",
   "id": "58e9e81f-a8c3-4855-9d69-64c7252fe1ef",
   "metadata": {},
   "source": [
    "En **Python** cada instrucción termina con un \"salto de línea\" o `Enter`. Los bloques de código (explicados más adelante), se especifican por los símbolos `:` el código se debe identar. El símbolo `#` permite incluir comentarios a la derecha del mismo. También se pueden incluir comentarios multilíneas con   `\"\"\"`. Por ejemplo, el siguiente trozo de código es un código válido en Java:\n",
    "\n",
    "><pre>\n",
    ">\"\"\"\n",
    "> Este es un ejemplo de codigo\n",
    "> en Python\n",
    ">\"\"\"\n",
    ">temperatura: float;\n",
    ">temperaturaMaxima: float;\n",
    ">normal: bool;\n",
    ">    \n",
    ">temperatura = 20;\n",
    ">temperaturaMaxima = 40;\n",
    ">\n",
    "># Se comprueba la temperatura\n",
    ">if temperatura < temperaturaMaxima:\n",
    ">    normal = true\n",
    ">else:\n",
    ">    normal = false\n",
    ">\n",
    "></pre>"
   ]
  },
  {
   "cell_type": "markdown",
   "id": "0862d537-ccec-49bf-9686-36a7910e26c7",
   "metadata": {},
   "source": [
    "## Operador de asignación"
   ]
  },
  {
   "cell_type": "markdown",
   "id": "1d62b111-fda0-4f70-ad8a-2675910ecfd4",
   "metadata": {},
   "source": [
    "El operador de asignación `=` es sencillo, pero no tiene el mismo significado ni se comporta de la misma manera que el símbolo igual utilizado en matemáticas. En Python (y otros lenguajes de programación),  `=` es un operador *binario* en el que el lado derecho es una expresión arbitrariamente compleja y el lado izquierdo es una variable.\n",
    "\n",
    "Por ejemplo, la expresión:\n",
    "\n",
    "`x = y + 5`\n",
    "\n",
    "se traduce como : \"sumar 5 al valor actual almacenado en y y luego almacenar el resultado en x\".\n",
    "\n",
    "|  Operador  | Significado |\n",
    "|-|-|\n",
    "| `=` | Asignación |\n",
    "\n",
    "**Ejemplo: asignación simple**\n",
    "\n",
    "><pre>\n",
    ">edad = 25\n",
    "></pre>\n",
    "\n",
    "**Ejemplo: asignación múltiple**\n",
    "\n",
    "><pre>\n",
    ">a, b, c, d = 26, 11.3, 5, 3.5\n",
    "></pre>\n",
    "\n",
    "**Nota**: Las instrucciones en Python terminan con un \"salto de línea\". No es necesario que terminen en `;` como C++ o Java."
   ]
  },
  {
   "cell_type": "markdown",
   "id": "c69d5c3f-182b-4e7d-bdbc-3550c838fe99",
   "metadata": {},
   "source": [
    "## Tipo de datos <a name=\"tipo_datos\"></a>"
   ]
  },
  {
   "cell_type": "markdown",
   "id": "d9fb4063-b2ab-4d75-84a1-e14d5c526e3f",
   "metadata": {},
   "source": [
    "### Números\n",
    "\n",
    "Estos tipos de datos se crean mediante números y se retornan como resultados por operadores aritméticos y funciones aritméticas integradas. Las variables del tipo numérica son inmutables: una vez creado su valor nunca cambia.\n",
    "\n",
    "| Clase   | Tipo     | Descripción                                   | Ejemplo       |\n",
    "|---------|----------|-----------------------------------------|---------------|\n",
    "| `int`   | Números  | Número entero      | `42`          |\n",
    "| `float` | Números  | Punto flotante de doble precisión.      | `3.1415927`   |\n",
    "| `complex` | Números | Parte real y parte imaginaria j.| `(4.5 + 3j)`  |\n",
    "\n",
    "\n",
    "**Convertir tipos de datos numéricos**\n",
    "\n",
    "Para convertir a tipos numéricos debe usar las siguientes funciones integradas en el interprete Python:\n",
    "\n",
    "* La función `int()` devuelve un tipo de datos número entero.\n",
    "* La función `float()` devuelve un tipo de datos número entero float.\n",
    "* La función `complex()` devuelve un tipo de datos número complejo.\n",
    "\n",
    "### Lógicos\n",
    "\n",
    "El tipo de dato *lógico* se llama `bool` sólo puede tener dos valores: `True` y `False` . Estos valores son especialmente importantes para las expresiones condicionales y los ciclos, como verá más adelante.\n",
    "\n",
    "En el contexto de las operaciones booleanas, y también cuando las expresiones son usadas bajo sentencias de flujo de control, los siguientes valores son interpretados como False:\n",
    "\n",
    "* False.\n",
    "* None.\n",
    "* Número cero en todos los tipos.\n",
    "* Cadena de caracteres vacías.\n",
    "\n",
    "### Cadenas de caracteres (string)\n",
    "\n",
    "El tipo de dato de cadenas de caracteres se llama `str`. Las cadenas de caracteres, son secuencias inmutables que contienen caracteres encerrado entre comillas. Por ejemplo:\n",
    "\n",
    ">`saludo = 'Hola mundo!!'`\n",
    "\n",
    "Para que un string tenga un caracter especial (por ejemplo, `'`, `\"`, `\\`) se deben colocar a la izquierda el caracter '\\\\':\n",
    "\n",
    "| Secuencia Escape         | Significado                                  |\n",
    "|--------------------------|----------------------------------------------|\n",
    "| `\\\\`                     | Backslash (`\\`)                                |\n",
    "| `\\'`                     | Comillas simple (`'`)                        |\n",
    "| `\\\"`                     | Comillas doble (`\"`)                          |\n",
    "| `\\t`                     | Tabulación Horizontal ASCII (TAB)          |\n",
    "| `\\n`                     | Salto de línea                     |"
   ]
  },
  {
   "cell_type": "markdown",
   "id": "fc727a7a-4f60-4845-9c49-2de3b5557a06",
   "metadata": {
    "jp-MarkdownHeadingCollapsed": true
   },
   "source": [
    "## Mostrar mensajes\n",
    "\n",
    "Para mostrar mensajes, se debe utilizar la función `print()`. Por ejemplo, para mostrar el contenido de una variable:\n",
    "\n",
    "><pre>\n",
    ">print(variable)\n",
    "></pre>\n",
    "\n",
    "Por ejemplo, el siguiente ejemplo declara una variable de tipo `float` llamada cantidad, asignándole un valor de `4.56` y luego se muestra un mensaje:\n",
    "\n",
    "><pre>\n",
    ">cantidad: float\n",
    ">\n",
    ">cantidad = 4.56\n",
    ">\n",
    ">print(\"El valor de cantidad es: \" + cantidad)\n",
    "></pre>\n",
    "\n",
    "**String con formato**\n",
    "\n",
    "Python utiliza la expresión `f\"\"` para referirse a un **f-string** (formatted string literal), que es una forma de formatear cadenas introducida en Python 3.6. Las f-strings permiten incluir expresiones dentro de las llaves `{}` que se evalúan en tiempo de ejecución, lo que facilita la interpolación de variables y la construcción de cadenas dinámicas. Por ejemplo:\n",
    "\n",
    "><pre>\n",
    ">cantidad: float;\n",
    ">\n",
    ">cantidad = 4.56;\n",
    ">\n",
    ">print(f\"El valor de cantidad es: {cantidad}\");\n",
    "></pre>"
   ]
  },
  {
   "cell_type": "markdown",
   "id": "20e8a4f1",
   "metadata": {
    "vscode": {
     "languageId": "plaintext"
    }
   },
   "source": [
    "## Operadores aritméticos básicos"
   ]
  },
  {
   "cell_type": "markdown",
   "id": "b70a9097",
   "metadata": {},
   "source": [
    "|  Operador  | Significado |\n",
    "|-|-|\n",
    "| `+` | Suma |\n",
    "| `-` | Resta |\n",
    "| `*` | Multiplacación |\n",
    "| `/` | División |\n",
    "| `//` | División entera |\n",
    "| `%` | Módulo |\n",
    "| `**` | Potencia |"
   ]
  },
  {
   "cell_type": "markdown",
   "id": "c1c1afb9",
   "metadata": {},
   "source": [
    "# Estructura de bloques y alcance de variables"
   ]
  },
  {
   "cell_type": "markdown",
   "id": "d830a46b",
   "metadata": {},
   "source": [
    "## Definición"
   ]
  },
  {
   "cell_type": "markdown",
   "id": "bd885a98",
   "metadata": {},
   "source": [
    "\n",
    "Un **bloque** es una secuencia delimitada de instrucciones. Los lenguajes de programación delimitan bloques de muchas maneras. Por ejemplo, Python utiliza el símbolo `:` y tabulaciones. C++, Java, C# y muchos otros lenguajes de programación delimitan bloques con llaves de apertura y cierre: `{ ... }`. Estos son lenguajes estructurados en bloques, lo que significa que los programas escritos en estos lenguajes constan de bloques, que forman cuerpos de funciones, instrucciones en bloque o compuestas, clases, etc. Comprender los bloques es fundamental para comprender el comportamiento de estos lenguajes.\n",
    "\n",
    "En el código de ejemplo, se muestro un ciclo `for`. El bloque que pertenece al cuerpo del ciclo esta tabulado."
   ]
  },
  {
   "cell_type": "code",
   "execution_count": null,
   "id": "b9eea06d",
   "metadata": {},
   "outputs": [],
   "source": [
    "for i in range(0,10):\n",
    "    print(f\"Hola: {i}\")"
   ]
  },
  {
   "cell_type": "markdown",
   "id": "73488df2",
   "metadata": {},
   "source": [
    "## Ámbito de variables"
   ]
  },
  {
   "cell_type": "markdown",
   "id": "645953bd",
   "metadata": {},
   "source": [
    "Python tiene una forma distinta a la de C++ y Java para asociar variables locales. En Python, el ámbito de una variable es la función donde fue declarada. Esto significa que las variables **locales** son todas las que se declaren dentro de una función. Las variables declaradas fuera del ámbito de una función, se consideran **globales**."
   ]
  },
  {
   "cell_type": "code",
   "execution_count": 38,
   "id": "a5328fca",
   "metadata": {},
   "outputs": [],
   "source": [
    "# Definición de la variables a utilizar\n",
    "# Estas variables son globales (definidas fuera del ámbito de una función)\n",
    "i: int\n",
    "j: int\n",
    "k: int\n",
    "\n",
    "# Asignación\n",
    "i = 10\n",
    "j = 11\n",
    "k = 12"
   ]
  },
  {
   "cell_type": "code",
   "execution_count": 39,
   "id": "880a2f1b",
   "metadata": {},
   "outputs": [],
   "source": [
    "def prueba():\n",
    "    i = 20\n",
    "    j = 12 # Esta variable es global\n",
    "\n",
    "    jj: int # Esta variable es local\n",
    "            # no puede ser accedida desde fuera de la función\n",
    "    jj = 20 \n",
    "            \n",
    "            \n",
    "    print(f\"Variable i dentro de la función: {i}\")\n",
    "    print(f\"Variable j dentro de la funcion: {j}\")\n",
    "    print(f\"Variable k dentro de la funcion: {k}\")\n",
    "    print(f\"Variable jj dentro de la funcion: {jj}\")"
   ]
  },
  {
   "cell_type": "code",
   "execution_count": null,
   "id": "90f2bbc7",
   "metadata": {},
   "outputs": [],
   "source": [
    "print(f\"Variable i (fuera de la función): {i}\")\n",
    "print(f\"Variable j (fuera de la función): {j}\")\n",
    "print(f\"Variable k (fuera de la función): {k}\")\n",
    "\n",
    "# invocar a la función prueba()\n",
    "prueba()\n",
    "\n",
    "print(f\"Variable final i (fuera de la función): {i}\")\n",
    "print(f\"Variable final j (fuera de la función): {j}\")\n",
    "print(f\"Variable final k (fuera de la función): {k}\")"
   ]
  },
  {
   "cell_type": "markdown",
   "id": "8f86df15",
   "metadata": {},
   "source": [
    ">**Nota**: los ejemplos que se entregan en este y otros cuadernos, se pueden ejecutar y la idea es que usted experimento con ellos. Para aprovechar aún más su tiempo, intente determinar la salida del código **antes** de ejecutarlo. Después de ejectuarlo, analice la salida. Si tiene dudas, consulte con su profesor o ayudante."
   ]
  },
  {
   "cell_type": "markdown",
   "id": "cf05f080",
   "metadata": {},
   "source": [
    "# Expresiones lógicas\n",
    "\n",
    "## Operadores relacionales\n",
    "\n",
    "Estos operadores comparar dos expresiones y retornan un valor lógico `True` o `False`.\n",
    "\n",
    "| Operador | Significado           |\n",
    "|----------|-----------------------|\n",
    "| `==`       | es igual a            |\n",
    "| `!=`       | no es igual a         |\n",
    "| `<`        | es menor que          |\n",
    "| `<=`       | es menor o igual que  |\n",
    "| `>`        | es mayor que          |\n",
    "| `>=`       | es mayor o igual que  |\n",
    "\n",
    "Esto operadores se suelen utilizar en sentencias de control (como ciclos `for` y sentencias `if`), que son el tema de las siguientes secciones. Las sentencias de control de **C++** son muy similares a las que conoce en **Java**.\n",
    "\n",
    "## Operadores lógicos\n",
    "\n",
    "| Operador | Significado     |\n",
    "|----------|-----------------|\n",
    "| `not`      | negación lógico |\n",
    "| `and`     | **Y** lógico    |\n",
    "| `or`     | **O** lógico    |\n",
    "\n",
    "\n",
    "Asociado con los operadores lógicos, están las tablas de verdad respectivas.\n",
    "\n",
    "**Tabla de verdad *not***\n",
    "\n",
    "El operador ! cambia el valor lógico al valor contrario.\n",
    "\n",
    "|  $E_1$   |  $not~E_1$  | \n",
    "|----------|---------|\n",
    "|  False   |  True  |\n",
    "|  True    |  False   | \n",
    "\n",
    "\n",
    "**Tabla de verdad *and***\n",
    "\n",
    "El operador && produce un resultado **True** sólo si ambas expresiones lógicas son **True**.\n",
    "\n",
    "|  $E_1$   |  $E_2$  |  $E_1~and~E_2$ |\n",
    "|----------|---------|-----------------|\n",
    "|  False   |  False  |      False      |\n",
    "|  False   |  True   |      False      |\n",
    "|  True    |  False  |      False      |\n",
    "|  True    |  True   |      True       |\n",
    "\n",
    "**Tabla de verdad *or***\n",
    "\n",
    "El operador \\|\\| produce un resultado **False** sólo si ambas expresiones lógicas son **False**.\n",
    "\n",
    "|  $E_1$   |  $E_2$  |  $E_1~or~E_2$ |\n",
    "|----------|---------|-----------------|\n",
    "|  False   |  False  |      False      |\n",
    "|  False   |  True   |      True       |\n",
    "|  True    |  False  |      True       |\n",
    "|  True    |  True   |      True       |\n",
    "\n",
    "\n",
    "\n",
    "Los operadores relacionales y lógicos se utilizan para implementar expresiones lógicas que pueden servir para controlar el flujo del programa, lo que se verá en las siguientes secciones:\n",
    "\n",
    "><pre>\n",
    ">if contador != x + y and m / n > x * y: \n",
    ">   . . .\n",
    ">\n",
    ">if max < sqrt(x) or contador >= x**y:\n",
    ">   . . .\n",
    ">\n",
    ">if not encontrolSolucion: \n",
    ">   . . .\n",
    "></pre>\n",
    "\n",
    "## Tipo de dato lógico\n",
    "\n",
    "En **Python**, el tipo de dato para declarar que una variable es lógica, es `bool`. Las valores que puede adoptar son: `True` o  `False`. Ahora bien, también, cualquier valor **mayor que cero** es tratado como `True`. Un valor **cero** es tratado como `False`.\n",
    "\n",
    "El siguiente código muestra un ejemplo de uso de variables lógicas. Pruebe el comportamiento de programa asignando a la variable `test` números, strings, expresiones lógicas y analice el resultado."
   ]
  },
  {
   "cell_type": "code",
   "execution_count": null,
   "id": "1fd8f0f8",
   "metadata": {},
   "outputs": [],
   "source": [
    "# definición de una variable lógica\n",
    "test: bool\n",
    "\n",
    "# asignar un valor lógico\n",
    "test =True\n",
    "\n",
    "# Hacer algo con esta variable\n",
    "if test == True:\n",
    "    print(\"test es verdadero\")\n",
    "else:\n",
    "    print(\"test es falso\")\n"
   ]
  },
  {
   "cell_type": "markdown",
   "id": "520061e9-f04b-4ee4-926d-89a76be53430",
   "metadata": {
    "tags": []
   },
   "source": [
    "# Estructuras de control de flujo <a name=\"control\"></a>"
   ]
  },
  {
   "cell_type": "markdown",
   "id": "122ff23e",
   "metadata": {},
   "source": [
    "## Estructuras de decisión"
   ]
  },
  {
   "cell_type": "markdown",
   "id": "b19b1010",
   "metadata": {},
   "source": [
    "Estas estructuras evalúan básicamente una expresión lógica que de como resultado `True` o `False`, y ejecuta la pieza de código siguiente siempre y cuando el resultado sea verdadero. Las estructura de decisión en Python siguen estos formatos:\n",
    "\n",
    "* Bloque `if` simple.\n",
    "* Bloque `if`-`else`.\n",
    "* Bloque `if`-`elif`."
   ]
  },
  {
   "cell_type": "markdown",
   "id": "c12fda76",
   "metadata": {},
   "source": [
    "### Bloque `if` simple"
   ]
  },
  {
   "cell_type": "markdown",
   "id": "cbe857b8",
   "metadata": {},
   "source": [
    "Una sentencia `if` simple ejecuta una único bloque de instrucciones según el resultado de una prueba lógica, la que puede ser `True` o `False`. Generalmente, estas pruebas tienen relación con en los valores almacenados en una o más variables del programa. Los resultados de estas pruebas cambian a medida que cambian los valores almacenados en las variables durante la ejecución del programa, lo que significa que las sentencias dentro de la sentencia `if` se ejecutan algunas veces, pero no otras.\n",
    "\n",
    "><pre>\n",
    ">if pruebaLógica:\n",
    ">    # Bloque de código que se ejecuta\n",
    ">    # cuando la pruebaLógica es Verdadera\n",
    ">\n",
    "></pre>\n",
    "\n",
    "Ejemplos de pruebas lógicas pueden ser las siguientes:\n",
    "\n",
    "><pre>\n",
    ">if contador == 0:\n",
    ">   . . .\n",
    ">\n",
    ">if contador != x + y:\n",
    ">   . . .\n",
    ">\n",
    ">if m / n > x * y:\n",
    ">   . . .\n",
    ">\n",
    ">if max < sqrt(x):\n",
    ">   . . .\n",
    ">\n",
    ">if contador >= x**y:\n",
    ">   . . .\n",
    ">\n",
    ">if contador <= 0:\n",
    ">   . . .\n",
    "></pre>"
   ]
  },
  {
   "cell_type": "markdown",
   "id": "da0dd79e",
   "metadata": {},
   "source": [
    "**Ejemplo**\n",
    "\n",
    "Explique la salida del siguiente código para distintos valores de la variables `x`."
   ]
  },
  {
   "cell_type": "code",
   "execution_count": null,
   "id": "5ab88761",
   "metadata": {},
   "outputs": [],
   "source": [
    "x: int\n",
    "x = 20;\n",
    "\n",
    "if x > 0:\n",
    "    print(\"x es mayor que 0\");\n",
    "\n",
    "if x < 10:\n",
    "    print(\"x es menor que 10\");\n"
   ]
  },
  {
   "cell_type": "markdown",
   "id": "2058818c",
   "metadata": {},
   "source": [
    "### Bloque `if`-`else`"
   ]
  },
  {
   "cell_type": "markdown",
   "id": "ef1c300a",
   "metadata": {},
   "source": [
    "La sentencia `else`, significa: \n",
    ">*De lo contrario, ejecute el bloque de intrucciones siguientes, sin evaluar ninguna expresión condicional*\n",
    "\n",
    "La estructura de este bloque es:\n",
    "\n",
    "><pre>\n",
    ">if pruebaLógica:\n",
    ">    # Bloque de código que se ejecuta\n",
    ">    # cuando la pruebaLógica es Verdadera\n",
    ">else:\n",
    ">    # Bloque de código que se ejecuta\n",
    ">    # cuando la pruebaLógica es Falsa\n",
    "></pre>\n"
   ]
  },
  {
   "cell_type": "code",
   "execution_count": null,
   "id": "2b4da76a",
   "metadata": {},
   "outputs": [],
   "source": [
    "x: int\n",
    "y: float\n",
    "\n",
    "x = 5\n",
    "y = 3.14\n",
    "\n",
    "if x > y and x != 10:\n",
    "    print(\"true\")\n",
    "else:\n",
    "    print(\"false\")\n"
   ]
  },
  {
   "cell_type": "markdown",
   "id": "abdfe5c5",
   "metadata": {},
   "source": [
    "\n",
    "### Bloque `if`-`elif`\n",
    "\n",
    "La sentencia `elif PRUEBA_LOGICA`, significa: \n",
    ">*De lo contrario, si se cumple la PRUEBA_LOGICA, se ejecuta el bloque de sentencias seguidas*\n",
    "\n",
    "La estructura de este bloque es:\n",
    "\n",
    "><pre>\n",
    ">if pruebaLógica:\n",
    ">    # Bloque de código que se ejecuta\n",
    ">    # cuando la pruebaLógica es Verdadera\n",
    ">elif otraPruebaLógica:\n",
    ">    # Bloque de código que se ejecuta\n",
    ">    # cuando la pruebaLógica es Falsa\n",
    "></pre>\n",
    "\n",
    "La estructura `if`-`elif` es similar a la estructura `if`-`else` anidada en lenguajes como C++ o Java."
   ]
  },
  {
   "cell_type": "code",
   "execution_count": null,
   "id": "4fd80328",
   "metadata": {},
   "outputs": [],
   "source": [
    "puntaje = 67\n",
    "\n",
    "if puntaje >= 90:\n",
    "    print(\"Excelente\")\n",
    "elif puntaje >= 80:\n",
    "    print(\"Logrado\")\n",
    "elif puntaje >= 70:\n",
    "    print(\"Bueno\")\n",
    "elif puntaje >= 60:\n",
    "    print(\"Suficiente\")\n",
    "else:\n",
    "    print(\"Insuficiente\")"
   ]
  },
  {
   "cell_type": "markdown",
   "id": "06299304",
   "metadata": {},
   "source": [
    "## Ciclos o bucles"
   ]
  },
  {
   "cell_type": "markdown",
   "id": "f28ca7fa",
   "metadata": {},
   "source": [
    "### Bloque `for`"
   ]
  },
  {
   "cell_type": "markdown",
   "id": "d0aea665",
   "metadata": {},
   "source": [
    "La sentencia `for` en Python difiere un poco de lo que uno puede estar acostumbrado en lenguajes como C+ o Java. En lugar de darle al usuario la posibilidad de definir tanto el paso de la iteración como la condición de fin (como en C++ o Java), la sentencia `for` de Python itera sobre los ítems de cualquier secuencia (rango, lista, tupla, diccionario, string), en el orden que aparecen en la secuencia.\n",
    "\n",
    "><pre>\n",
    ">for variable in secuencia:\n",
    ">\t# ejecute las instrucciones\n",
    ">   # dentro de este bloque\n",
    "></pre>\n"
   ]
  },
  {
   "cell_type": "markdown",
   "id": "1fee6c3d",
   "metadata": {},
   "source": [
    "**Ejemplo ciclo `for` con rangos numéricos**"
   ]
  },
  {
   "cell_type": "code",
   "execution_count": null,
   "id": "175be642",
   "metadata": {},
   "outputs": [],
   "source": [
    "# Imprimir los números del 2 al 6\n",
    "for i in range(2, 7):\n",
    "    print(i)"
   ]
  },
  {
   "cell_type": "markdown",
   "id": "024fcc78",
   "metadata": {},
   "source": [
    "**Ejemplo ciclo `for` con listas**"
   ]
  },
  {
   "cell_type": "code",
   "execution_count": null,
   "id": "23cd41fb",
   "metadata": {},
   "outputs": [],
   "source": [
    "animales = [\"gato\", \"perro\", \"serpiente\"]\n",
    "\n",
    "for animal in animales:\n",
    "    print(f\"El animal es: {animal}, la cantidad de letras es: {len(animal)}\")\n"
   ]
  },
  {
   "cell_type": "markdown",
   "id": "c5567b69",
   "metadata": {},
   "source": [
    "### Bloque `while`"
   ]
  },
  {
   "cell_type": "markdown",
   "id": "cbe57dc0",
   "metadata": {},
   "source": [
    "La sintaxis de un ciclo `while` básico es sencilla, y solo requiere la palabra clave `while` y una expresión  lógica. El programa evalúa la expresión lógica **antes** de cada iteración. Esto hace que los ciclos `while` realicen **0 o más iteraciones**. Se llaman ciclo *indefinidos* en el sentido de que el código puede no indicar explícitamente el número de iteraciones que se realizarán. La estructura general es:\n",
    "\n",
    "><pre>\n",
    "># Inicialice la variable de control\n",
    ">while expresionPrueba == true:\n",
    ">   # Haga lo que se define en estas instrucciones\n",
    ">   #  ...\n",
    ">   # ...\n",
    ">\n",
    ">   # actualice la variable de control\n",
    "></pre>\n",
    "\n",
    "**Ejemplo**: En el siguiente código, se muestra un ciclo `while` cuya variable de control es `contador`, que se inicializa en 0. La fase de comprobación consiste en verificar que el valor de la variable de control sea menor que 10. En la parte de actualización, la variable de control se le suma 1."
   ]
  },
  {
   "cell_type": "code",
   "execution_count": null,
   "id": "c2b2df63",
   "metadata": {},
   "outputs": [],
   "source": [
    "contador: int\n",
    "contador = 0\n",
    "\n",
    "while (contador < 10) == True:\n",
    "\tprint(f\"{contador} \", end=\"\")\n",
    "\tcontador += 1"
   ]
  },
  {
   "cell_type": "markdown",
   "id": "f8241b70",
   "metadata": {},
   "source": [
    ">**Nota**: Es normal que cuando se evalúe que la expresión lógica de prueba sea **verdadera**, se omita `== true`. Tomando en consideración esto, el código anterior queda como:"
   ]
  },
  {
   "cell_type": "code",
   "execution_count": null,
   "id": "36e77f6f",
   "metadata": {},
   "outputs": [],
   "source": [
    "contador: int\n",
    "contador = 0\n",
    "\n",
    "while contador < 10:\n",
    "\tprint(f\"{contador} \", end=\"\")\n",
    "\tcontador += 1"
   ]
  },
  {
   "cell_type": "markdown",
   "id": "87109300",
   "metadata": {},
   "source": [
    "Se sugiere que como ejercicio, transforme el ciclo while anterior en un ciclo for. Recuerde que para esto, se debe identificar la inicialización, la comprobación y la actualización de la variable de control."
   ]
  },
  {
   "cell_type": "markdown",
   "id": "eb19aecf-4184-47b3-81ce-d873b1ab9667",
   "metadata": {
    "tags": []
   },
   "source": [
    "# Funciones <a name=\"funciones\"></a>"
   ]
  },
  {
   "cell_type": "markdown",
   "id": "0fd03f67-adec-4ac0-b391-45581489486f",
   "metadata": {},
   "source": [
    "Como en todos los lenguajes, la función debe tiener una cabecera. En Python, se comienza por la palabra reservada `def`, luego el nombre, los parámetros y finalmente el tipo de datos que retorna. Si los parámetros son más de uno, se deben separar con el caracter `,`. El cuerpo de la función se identifica por tabulación.\n",
    "\n",
    "><pre>\n",
    ">def nombreFunción(parámetros) -> tipoDatoRetorno :\n",
    ">   # instrucciones de la función\n",
    "\n",
    "><pre>\n",
    "\n",
    "Se debe recordar que en Python, el ámbito de las variables es la función donde están definidas. Por lo que toda variables definida dentro de la función es local."
   ]
  },
  {
   "cell_type": "code",
   "execution_count": null,
   "id": "e2e29a4b-bed6-4171-b2db-60d9dfb6c5b4",
   "metadata": {
    "tags": []
   },
   "outputs": [],
   "source": [
    "def parImpar(N: int) -> str:\n",
    "    i: int\n",
    "    resultado: str\n",
    "    \n",
    "    i = N % 2;\n",
    "    \n",
    "    if i == 0:\n",
    "        resultado = \"Es par\"\n",
    "    else:\n",
    "        resultado = \"Es impar\"\n",
    "    \n",
    "    return(resultado)"
   ]
  },
  {
   "cell_type": "markdown",
   "id": "856dd967",
   "metadata": {},
   "source": [
    "Para utilizar la función anterior, se debe invocar o llamar por su nombre y asignar un argumento (un valor) a cada parámetro declarado. Un ejemplo de llamada se muestra a continuación:"
   ]
  },
  {
   "cell_type": "code",
   "execution_count": null,
   "id": "6b0f1cce-b2bb-48c1-b752-1000a403e39b",
   "metadata": {
    "tags": []
   },
   "outputs": [],
   "source": [
    "queSera:str \n",
    "\n",
    "queSera = parImpar(10);\n",
    "\n",
    "print(queSera);"
   ]
  },
  {
   "cell_type": "markdown",
   "id": "47810a47-c0ff-4f62-bee4-4b9be1fc47fb",
   "metadata": {},
   "source": [
    "## Ejercicio resuelto <a name=\"ejercicio\"></a>\n",
    "\n",
    "**Diseñe** e **implemente** una función que se llame `esPar`, que detecte si un número es par. La función recibe un número entero y retorne un valor lógico: `true` para par, `false` para impar."
   ]
  },
  {
   "cell_type": "markdown",
   "id": "7ea5cd75",
   "metadata": {},
   "source": [
    "### Solución\n",
    "\n",
    "La función se debe llamar `esPar`, recibe un número entero y retorna un valor lógico. Por decisión de diseño, el parámetro se llamará `N` con un tipo de datos `int`. El tipo de datos del retorno, en este caso es `bool`. Luego, la cabecera es:\n",
    "\n",
    "`def esPar(N:int) -> boolean`\n",
    "\n",
    "Por diseño, la función almacenerá el resultado de la decisión en una variable con nombre `resultado`. Para decidir si es par o no, se utilizará el operador módulo (`%`). El resultado de esta operación se almacenará en una variable de control (`i`). Si esta variable toma el valor 0, entonces el número ingresado como argumento es par, por lo que, en este caso, la variable `resultado` tendrá el valor lógico `true`. En otro caso, tendrá el valor lógico `false`.\n",
    "\n",
    "En base a lo anterior, la implementación de la función es:"
   ]
  },
  {
   "cell_type": "code",
   "execution_count": null,
   "id": "2bcf4f31-3673-4c63-b90f-66d855290e25",
   "metadata": {
    "tags": []
   },
   "outputs": [],
   "source": [
    "def esPar(N: int) -> bool:\n",
    "    i: int\n",
    "    resultado: bool\n",
    "    \n",
    "    i = N % 2\n",
    "    \n",
    "    if(i == 0):\n",
    "        resultado = True\n",
    "    else:\n",
    "        resultado = False  \n",
    "    return(resultado)"
   ]
  },
  {
   "cell_type": "markdown",
   "id": "c6a2b3b6",
   "metadata": {},
   "source": [
    "Como trabajo personal, agregue el código que permita probar la correcta operación de la función `esPar()`."
   ]
  }
 ],
 "metadata": {
  "kernelspec": {
   "display_name": "Python 3 (ipykernel)",
   "language": "python",
   "name": "python3"
  },
  "language_info": {
   "codemirror_mode": {
    "name": "ipython",
    "version": 3
   },
   "file_extension": ".py",
   "mimetype": "text/x-python",
   "name": "python",
   "nbconvert_exporter": "python",
   "pygments_lexer": "ipython3",
   "version": "3.10.12"
  }
 },
 "nbformat": 4,
 "nbformat_minor": 5
}
