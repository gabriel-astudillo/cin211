{
 "cells": [
  {
   "cell_type": "markdown",
   "id": "b47e2681-f519-4308-b428-7883e148af11",
   "metadata": {},
   "source": [
    "# Implementación de clases y objetos en Python"
   ]
  },
  {
   "cell_type": "code",
   "execution_count": 36,
   "id": "90483d31-9a66-4b07-94bc-3639c4016115",
   "metadata": {
    "tags": []
   },
   "outputs": [],
   "source": [
    "class Punto:    \n",
    "    __x: float\n",
    "    __y: float\n",
    "\n",
    "    def __init__(self, x0: float, y0: float):\n",
    "        self.__x = x0\n",
    "        self.__y = y0\n",
    "\n",
    "    def moverEn(self, deltaX: float, deltaY: float):\n",
    "        self.__x += deltaX\n",
    "        self.__y += deltaY\n",
    "\n",
    "    def distancia(self, p)-> float:\n",
    "        d = ((p.__x - self.__x)**2 + (p.__y - self.__y)**2) ** 0.5\n",
    "        return d\n",
    "    \n",
    "    def getX(self) -> float:\n",
    "        return self.__x\n",
    "    \n",
    "    def getY(self) -> float:\n",
    "        return self.__y\n",
    "\n"
   ]
  },
  {
   "cell_type": "code",
   "execution_count": 37,
   "id": "5c7c456e-2f8b-4326-af2c-8f9b64fd50b6",
   "metadata": {
    "tags": []
   },
   "outputs": [],
   "source": [
    "pA: Punto\n",
    "pB: Punto"
   ]
  },
  {
   "cell_type": "code",
   "execution_count": 38,
   "id": "bb69af24-f17e-48ab-9b59-d0a5c0b56291",
   "metadata": {
    "tags": []
   },
   "outputs": [],
   "source": [
    "pA = Punto(10,20)\n",
    "pB = Punto(5,15)"
   ]
  },
  {
   "cell_type": "code",
   "execution_count": 39,
   "id": "f5fb8889-c55d-4031-b15e-741883b1125a",
   "metadata": {
    "tags": []
   },
   "outputs": [],
   "source": [
    "pA.moverEn(30,40)"
   ]
  },
  {
   "cell_type": "code",
   "execution_count": 40,
   "id": "ed82c436-ec9a-4cfa-b386-ca7af2f3237d",
   "metadata": {
    "tags": []
   },
   "outputs": [
    {
     "data": {
      "text/plain": [
       "40"
      ]
     },
     "execution_count": 40,
     "metadata": {},
     "output_type": "execute_result"
    }
   ],
   "source": [
    "pA.getX()"
   ]
  },
  {
   "cell_type": "code",
   "execution_count": 41,
   "id": "ce4bf38d-2f21-45c4-b5bd-29e7864a3882",
   "metadata": {
    "tags": []
   },
   "outputs": [
    {
     "data": {
      "text/plain": [
       "57.0087712549569"
      ]
     },
     "execution_count": 41,
     "metadata": {},
     "output_type": "execute_result"
    }
   ],
   "source": [
    "pA.distancia(pB)"
   ]
  },
  {
   "cell_type": "markdown",
   "id": "40e0d3d5",
   "metadata": {},
   "source": [
    "## Ejemplo clase Persona"
   ]
  },
  {
   "cell_type": "code",
   "execution_count": 7,
   "id": "66e190ee",
   "metadata": {},
   "outputs": [],
   "source": [
    "class Persona:\n",
    "    __nombre: str\n",
    "    __edad: int\n",
    "    \n",
    "    def __init__(self, nombre: str, edad: int):\n",
    "        # Inicializa los atributos de la persona\n",
    "        self.__nombre = nombre  # Atributo privado para el nombre\n",
    "        self.__edad = edad      # Atributo privado para la edad\n",
    "\n",
    "    def setNombre(self, nombre: str) -> None:\n",
    "        # Establece el nombre de la persona\n",
    "        self.__nombre = nombre\n",
    "\n",
    "    def getNombre(self) -> str:\n",
    "        # Devuelve el nombre de la persona\n",
    "        return self.__nombre\n",
    "\n",
    "    def setEdad(self, edad: int) -> None:\n",
    "        # Establece la edad de la persona\n",
    "        self.__edad = edad\n",
    "\n",
    "    def getEdad(self) -> int:\n",
    "        # Devuelve la edad de la persona\n",
    "        return self.__edad"
   ]
  },
  {
   "cell_type": "markdown",
   "id": "6f94b21c",
   "metadata": {},
   "source": [
    "Cuando se implementen clases, se debe agregar un código que muestre el funcionamiento de ella. Es realizar, a través de una función, pruebas de concepto con la clase."
   ]
  },
  {
   "cell_type": "code",
   "execution_count": 8,
   "id": "9170fb2a",
   "metadata": {},
   "outputs": [],
   "source": [
    "def uso():\n",
    "    # Crear un objeto de tipo Persona\n",
    "    persona = Persona(\"Juan\", 30)\n",
    "\n",
    "    # Mostrar los datos\n",
    "    print(f\"Nombre: {persona.getNombre()}\")\n",
    "    print(f\"Edad: {persona.getEdad()}\")\n",
    "\n",
    "    # Cambiar el nombre y la edad\n",
    "    persona.setNombre(\"Pedro\")\n",
    "    persona.setEdad(25)\n",
    "\n",
    "    # Mostrar los nuevos datos\n",
    "    print(f\"Nuevo Nombre: {persona.getNombre()}\")\n",
    "    print(f\"Nueva Edad: {persona.getEdad()}\")"
   ]
  },
  {
   "cell_type": "markdown",
   "id": "06bd277e",
   "metadata": {},
   "source": [
    "Finalmente, llamar a la función `uso()` para comprobar el funcionamiento de la clase."
   ]
  },
  {
   "cell_type": "code",
   "execution_count": 9,
   "id": "02fa306e",
   "metadata": {},
   "outputs": [
    {
     "name": "stdout",
     "output_type": "stream",
     "text": [
      "Nombre: Juan\n",
      "Edad: 30\n",
      "Nuevo Nombre: Pedro\n",
      "Nueva Edad: 25\n"
     ]
    }
   ],
   "source": [
    "uso()"
   ]
  }
 ],
 "metadata": {
  "kernelspec": {
   "display_name": "Python 3 (ipykernel)",
   "language": "python",
   "name": "python3"
  },
  "language_info": {
   "codemirror_mode": {
    "name": "ipython",
    "version": 3
   },
   "file_extension": ".py",
   "mimetype": "text/x-python",
   "name": "python",
   "nbconvert_exporter": "python",
   "pygments_lexer": "ipython3",
   "version": "3.10.12"
  }
 },
 "nbformat": 4,
 "nbformat_minor": 5
}
