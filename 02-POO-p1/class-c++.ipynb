{
 "cells": [
  {
   "cell_type": "markdown",
   "id": "66693b18",
   "metadata": {},
   "source": [
    "# Clases y objetos"
   ]
  },
  {
   "cell_type": "markdown",
   "id": "6702b9cb-14ef-4cbe-a057-080a110bbb17",
   "metadata": {},
   "source": [
    "## Implementación en C++"
   ]
  },
  {
   "cell_type": "code",
   "execution_count": 2,
   "id": "1889dbfd-3065-402c-ba57-6fee010c21fd",
   "metadata": {
    "tags": [],
    "vscode": {
     "languageId": "java"
    }
   },
   "outputs": [],
   "source": [
    "#include <cmath>\n",
    "class Punto{\n",
    "    private:\n",
    "    float x;\n",
    "    float y;\n",
    "    \n",
    "    public:\n",
    "    Punto(float x0, float y0){\n",
    "        x = x0;\n",
    "        y = y0;\n",
    "    }\n",
    "    \n",
    "    void moverEn(float deltaX, float deltaY){\n",
    "        x += deltaX;\n",
    "        y += deltaY;\n",
    "    }\n",
    "    \n",
    "    float distancia(Punto p){\n",
    "        float d;\n",
    "        float dx2, dy2;\n",
    "        \n",
    "        dx2 = pow(p.x - x, 2);\n",
    "        dy2 = pow(p.y - y, 2);\n",
    "        \n",
    "        d = sqrt(dx2 + dy2);\n",
    "        return(d);\n",
    "    }\n",
    "    \n",
    "    float getX(){\n",
    "        return(x);\n",
    "    }\n",
    "    \n",
    "    float getY(){\n",
    "        return(y);\n",
    "    }\n",
    "};"
   ]
  },
  {
   "cell_type": "code",
   "execution_count": 3,
   "id": "29e678a7-8bec-4b20-af7d-c045c8598c0c",
   "metadata": {
    "tags": [],
    "vscode": {
     "languageId": "java"
    }
   },
   "outputs": [],
   "source": [
    "Punto pA = Punto(10,20);\n",
    "Punto pB = Punto(5,15);"
   ]
  },
  {
   "cell_type": "code",
   "execution_count": 4,
   "id": "c2ea06af-2147-428a-90ef-b0a6b8f4025a",
   "metadata": {
    "tags": [],
    "vscode": {
     "languageId": "java"
    }
   },
   "outputs": [],
   "source": [
    "pA.moverEn(30,40)"
   ]
  },
  {
   "cell_type": "code",
   "execution_count": null,
   "id": "3f8de9c3-7401-43e9-8cc8-7a5470b3135f",
   "metadata": {
    "tags": [],
    "vscode": {
     "languageId": "java"
    }
   },
   "outputs": [],
   "source": [
    "pA.getX()"
   ]
  },
  {
   "cell_type": "code",
   "execution_count": null,
   "id": "c427650b-6726-4cc1-8bc2-8f3b25b23f5a",
   "metadata": {
    "tags": [],
    "vscode": {
     "languageId": "java"
    }
   },
   "outputs": [],
   "source": [
    "pA.distancia(pB)"
   ]
  },
  {
   "cell_type": "code",
   "execution_count": 7,
   "id": "e2f620c7-9bad-4d34-8b0d-29c143b80de4",
   "metadata": {
    "tags": [],
    "vscode": {
     "languageId": "java"
    }
   },
   "outputs": [],
   "source": [
    "Punto* pC = new Punto(10,20);"
   ]
  },
  {
   "cell_type": "code",
   "execution_count": 8,
   "id": "4052e6be-b683-4a99-af38-6dd1b5add0d7",
   "metadata": {
    "tags": [],
    "vscode": {
     "languageId": "java"
    }
   },
   "outputs": [],
   "source": [
    "pC->getX();"
   ]
  },
  {
   "cell_type": "code",
   "execution_count": 11,
   "id": "a0b47d8e-00b1-495d-ba2a-d640026a527e",
   "metadata": {
    "tags": [],
    "vscode": {
     "languageId": "java"
    }
   },
   "outputs": [],
   "source": [
    "pC->moverEn(30,40);"
   ]
  },
  {
   "cell_type": "code",
   "execution_count": null,
   "id": "d99c9a2d-2d46-4717-9d91-461d3e1a614a",
   "metadata": {
    "tags": [],
    "vscode": {
     "languageId": "java"
    }
   },
   "outputs": [],
   "source": [
    "#include <iostream>\n",
    "std::cout << pC->distancia(pB) << \"\\n\";"
   ]
  },
  {
   "cell_type": "code",
   "execution_count": 9,
   "id": "4a6e52d4-b98f-4b18-96a8-db32ec85f53f",
   "metadata": {
    "tags": [],
    "vscode": {
     "languageId": "java"
    }
   },
   "outputs": [],
   "source": [
    "pC->getY();"
   ]
  },
  {
   "cell_type": "markdown",
   "id": "b37a4593-c3f5-4339-a574-d183404344cb",
   "metadata": {
    "vscode": {
     "languageId": "java"
    }
   },
   "source": [
    "## Ejemplo clase Persona"
   ]
  },
  {
   "cell_type": "code",
   "execution_count": 4,
   "id": "49f6c89a",
   "metadata": {
    "vscode": {
     "languageId": "java"
    }
   },
   "outputs": [],
   "source": [
    "#include <iostream>\n",
    "#include <string>\n",
    "\n",
    "class Persona {\n",
    "private:\n",
    "    std::string nombre; // Atributo privado para el nombre\n",
    "    int edad;          // Atributo privado para la edad\n",
    "\n",
    "public:\n",
    "    // Constructor\n",
    "    Persona(const std::string n, int e) : nombre(n), edad(e) {\n",
    "\n",
    "    }\n",
    "\n",
    "    // Destructor\n",
    "    ~Persona() {\n",
    "        // lógica de limpieza si es necesario\n",
    "    }\n",
    "\n",
    "    // Método para establecer el nombre\n",
    "    void setNombre(std::string n) {\n",
    "        nombre = n;\n",
    "    }\n",
    "\n",
    "    // Método para obtener el nombre\n",
    "    std::string getNombre() const {\n",
    "        return nombre;\n",
    "    }\n",
    "\n",
    "    // Método para establecer la edad\n",
    "    void setEdad(int e) {\n",
    "        edad = e;\n",
    "    }\n",
    "\n",
    "    // Método para obtener la edad\n",
    "    int getEdad() const {\n",
    "        return edad;\n",
    "    }\n",
    "};"
   ]
  },
  {
   "cell_type": "markdown",
   "id": "4d94a860",
   "metadata": {},
   "source": [
    "Cuando se implementen clases, se debe agregar un código que muestre el funcionamiento de ella. Es realizar, a través de una función, pruebas de concepto con la clase."
   ]
  },
  {
   "cell_type": "code",
   "execution_count": 7,
   "id": "57cebc32",
   "metadata": {
    "vscode": {
     "languageId": "java"
    }
   },
   "outputs": [],
   "source": [
    "void uso() {\n",
    "    // Crear un objeto de tipo Persona\n",
    "    Persona p(\"Juan\", 30);\n",
    "\n",
    "    // Mostrar los datos\n",
    "    std::cout << \"Nombre: \" << p.getNombre() << \"\\n\";\n",
    "    std::cout << \"Edad: \" << p.getEdad() << \"\\n\";\n",
    "\n",
    "    // Cambiar el nombre y la edad\n",
    "    p.setNombre(\"Pedro\");\n",
    "    p.setEdad(25);\n",
    "\n",
    "    // Mostrar los nuevos datos\n",
    "    std::cout << \"Nuevo Nombre: \" << p.getNombre() << \"\\n\";\n",
    "    std::cout << \"Nueva Edad: \" << p.getEdad() << \"\\n\";\n",
    "}"
   ]
  },
  {
   "cell_type": "markdown",
   "id": "67627e87",
   "metadata": {},
   "source": [
    "Finalmente, llamar a la función `uso()` para comprobar el funcionamiento de la clase."
   ]
  },
  {
   "cell_type": "code",
   "execution_count": 8,
   "id": "5e1cb0a6",
   "metadata": {
    "vscode": {
     "languageId": "java"
    }
   },
   "outputs": [
    {
     "name": "stdout",
     "output_type": "stream",
     "text": [
      "Nombre: Juan\n",
      "Edad: 30\n",
      "Nuevo Nombre: Pedro\n",
      "Nueva Edad: 25\n"
     ]
    }
   ],
   "source": [
    "uso();"
   ]
  },
  {
   "cell_type": "code",
   "execution_count": null,
   "id": "91531e10-cff8-4278-a14c-b0dadd316a3c",
   "metadata": {},
   "outputs": [],
   "source": []
  }
 ],
 "metadata": {
  "kernelspec": {
   "display_name": "C++17",
   "language": "C++17",
   "name": "xcpp17"
  },
  "language_info": {
   "codemirror_mode": "text/x-c++src",
   "file_extension": ".cpp",
   "mimetype": "text/x-c++src",
   "name": "c++",
   "version": "17"
  }
 },
 "nbformat": 4,
 "nbformat_minor": 5
}
