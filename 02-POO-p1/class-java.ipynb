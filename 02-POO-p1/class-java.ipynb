{
 "cells": [
  {
   "cell_type": "code",
   "execution_count": 9,
   "metadata": {},
   "outputs": [],
   "source": [
    "class Punto{\n",
    "    private float x;\n",
    "    private float y;\n",
    "    \n",
    "    public Punto(float x0, float y0){\n",
    "        x = x0;\n",
    "        y = y0;\n",
    "    }\n",
    "    \n",
    "    public void moverEn(float deltaX, float deltaY){\n",
    "        x += deltaX;\n",
    "        y += deltaY;\n",
    "    }\n",
    "    \n",
    "    public float distancia(Punto p){\n",
    "        float d;\n",
    "        float dx2, dy2;\n",
    "        \n",
    "        dx2 = (float)Math.pow(p.x - x, 2);\n",
    "        dy2 = (float)Math.pow(p.y - y, 2);\n",
    "        \n",
    "        d = (float)Math.sqrt(dx2 + dy2);\n",
    "        return(d);\n",
    "    }\n",
    "    \n",
    "    public float getX(){\n",
    "        return(x);\n",
    "    }\n",
    "    \n",
    "    public float getY(){\n",
    "        return(y);\n",
    "    }\n",
    "};\n"
   ]
  },
  {
   "cell_type": "code",
   "execution_count": 10,
   "metadata": {},
   "outputs": [],
   "source": [
    "Punto pA = new Punto(10,20);\n",
    "Punto pB = new Punto(5,15);"
   ]
  },
  {
   "cell_type": "code",
   "execution_count": 11,
   "metadata": {},
   "outputs": [],
   "source": [
    "pA.moverEn(30,40)"
   ]
  },
  {
   "cell_type": "code",
   "execution_count": 12,
   "metadata": {},
   "outputs": [
    {
     "data": {
      "text/plain": [
       "40.0"
      ]
     },
     "execution_count": 12,
     "metadata": {},
     "output_type": "execute_result"
    }
   ],
   "source": [
    "pA.getX()"
   ]
  },
  {
   "cell_type": "code",
   "execution_count": 13,
   "metadata": {},
   "outputs": [
    {
     "data": {
      "text/plain": [
       "57.00877"
      ]
     },
     "execution_count": 13,
     "metadata": {},
     "output_type": "execute_result"
    }
   ],
   "source": [
    "pA.distancia(pB)"
   ]
  },
  {
   "cell_type": "markdown",
   "metadata": {},
   "source": [
    "## Ejemplo clase persona"
   ]
  },
  {
   "cell_type": "code",
   "execution_count": 3,
   "metadata": {},
   "outputs": [],
   "source": [
    "public class Persona {\n",
    "    // Atributos privados\n",
    "    private String nombre; // Nombre de la persona\n",
    "    private int edad;      // Edad de la persona\n",
    "\n",
    "    // Constructor\n",
    "    public Persona(String n, int e) {\n",
    "        nombre = n;\n",
    "        edad = e;\n",
    "    }\n",
    "\n",
    "    // Método para establecer el nombre\n",
    "    public void setNombre(String n) {\n",
    "        nombre = n;\n",
    "    }\n",
    "\n",
    "    // Método para obtener el nombre\n",
    "    public String getNombre() {\n",
    "        return(nombre);\n",
    "    }\n",
    "\n",
    "    // Método para establecer la edad\n",
    "    public void setEdad(int e) {\n",
    "        edad = e;\n",
    "    }\n",
    "\n",
    "    // Método para obtener la edad\n",
    "    public int getEdad() {\n",
    "        return(edad);\n",
    "    }\n",
    "}"
   ]
  },
  {
   "cell_type": "markdown",
   "metadata": {},
   "source": [
    "Cuando se implementen clases, se debe agregar un código que muestre el funcionamiento de ella. Es realizar, a través de una función, pruebas de concepto con la clase."
   ]
  },
  {
   "cell_type": "code",
   "execution_count": 6,
   "metadata": {},
   "outputs": [],
   "source": [
    "void uso() {\n",
    "    // Crear un objeto de tipo Persona\n",
    "    Persona p = new Persona(\"Juan\", 30);\n",
    "\n",
    "    // Mostrar los datos\n",
    "    System.out.println(\"Nombre: \" + p.getNombre());\n",
    "    System.out.println(\"Edad: \" + p.getEdad());\n",
    "\n",
    "    // Cambiar el nombre y la edad\n",
    "    p.setNombre(\"Pedro\");\n",
    "    p.setEdad(25);\n",
    "\n",
    "    // Mostrar los nuevos datos\n",
    "    System.out.println(\"Nuevo Nombre: \" + p.getNombre());\n",
    "    System.out.println(\"Nueva Edad: \" + p.getEdad());\n",
    "}"
   ]
  },
  {
   "cell_type": "markdown",
   "metadata": {},
   "source": [
    "Finalmente, llamar a la función `uso()` para comprobar el funcionamiento de la clase."
   ]
  },
  {
   "cell_type": "code",
   "execution_count": 7,
   "metadata": {},
   "outputs": [
    {
     "name": "stdout",
     "output_type": "stream",
     "text": [
      "Nombre: Juan\n",
      "Edad: 30\n",
      "Nuevo Nombre: Pedro\n",
      "Nueva Edad: 25\n"
     ]
    }
   ],
   "source": [
    "uso();"
   ]
  }
 ],
 "metadata": {
  "kernelspec": {
   "display_name": "Java",
   "language": "java",
   "name": "java"
  },
  "language_info": {
   "codemirror_mode": "java",
   "file_extension": ".jshell",
   "mimetype": "text/x-java-source",
   "name": "java",
   "pygments_lexer": "java",
   "version": "11.0.25+9-post-Ubuntu-1ubuntu122.04"
  }
 },
 "nbformat": 4,
 "nbformat_minor": 2
}
