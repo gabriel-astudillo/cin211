{
 "cells": [
  {
   "cell_type": "markdown",
   "metadata": {},
   "source": [
    "# Paso de argumentos a funciones: caso C++"
   ]
  },
  {
   "cell_type": "markdown",
   "metadata": {},
   "source": [
    "<figure>\n",
    "<center>\n",
    "    <img src=\"https://i.sstatic.net/8XAQ1.gif\" width=\"60%\">\n",
    "    </center>\n",
    "</figure>"
   ]
  },
  {
   "cell_type": "markdown",
   "metadata": {},
   "source": [
    "## Paso por valor"
   ]
  },
  {
   "cell_type": "markdown",
   "metadata": {},
   "source": [
    "En el paso por valor, se pasa una **copia** del contenido de la variable que es el argumento a una función determinada. Esto significa que cualquier modificación realizada dentro de la función no afecta al argumento original. "
   ]
  },
  {
   "cell_type": "markdown",
   "metadata": {},
   "source": [
    "**Ejemplo**: se crea una función que dado un número entero, le suma 10."
   ]
  },
  {
   "cell_type": "code",
   "execution_count": 3,
   "metadata": {
    "vscode": {
     "languageId": "cpp"
    }
   },
   "outputs": [],
   "source": [
    "void modificaNumero(int n){\n",
    "    n = n + 10;\n",
    "}"
   ]
  },
  {
   "cell_type": "markdown",
   "metadata": {},
   "source": [
    "Debe recordar que la variable `n`en la función `modificarNumero`es una variable **local**. Esto significada que fuera del ámbito de las llaves `{}`, esa variable no se puede utilizar, en el sentido de acceder a su contenido.\n",
    "\n",
    "Suponga ahora que la función anterior se llama desde otra parte del programa. Para realizar la prueba de concepto, se crea una variable `num` con cierto valor y se pasa a la función creada."
   ]
  },
  {
   "cell_type": "code",
   "execution_count": null,
   "metadata": {
    "vscode": {
     "languageId": "cpp"
    }
   },
   "outputs": [],
   "source": [
    "#include <iostream>\n",
    "\n",
    "int num = 100;\n",
    "\n",
    "modificaNumero(num);\n",
    "std::cout << \"Valor de num en el llamador: \" << num << \"\\n\";"
   ]
  },
  {
   "cell_type": "markdown",
   "metadata": {},
   "source": [
    "En C++, todos los datos se pasan por valor, a menos que se especifique lo contrario."
   ]
  },
  {
   "cell_type": "markdown",
   "metadata": {},
   "source": [
    "## Paso por referencia"
   ]
  },
  {
   "cell_type": "markdown",
   "metadata": {},
   "source": [
    "En el paso por referencia, se pasa una **referencia** a la variable que se carga en el argumento original, lo que permite que la función modifique el valor de la variable original. Esto es útil, especialmente cuando se quiere procesar una variable con gran cantidad de datos. Evita el tiempo que demora en copiarse. Además, mantiene la cantidad de memoria utilizada por el programa.\n",
    "\n",
    "En C++, todos los tipos de datos (primitivos y no) se pueden pasar por referencia utilizando el símbolo `&`. Por ejemplo, considere que se tienen dos funciones, `pruebaPorValor()` y `pruebaPorReferencia()`.\n",
    "\n",
    "La función `pruebaPorValor()` es una función cuyo parámetro ((un `string` en este caso), no tiene ninguna indicación extra. Esto significa que el argumento se pasa por valor. La lógica de la función es reemplazar el valor del argumento por un string determinado."
   ]
  },
  {
   "cell_type": "code",
   "execution_count": 1,
   "metadata": {
    "vscode": {
     "languageId": "cpp"
    }
   },
   "outputs": [],
   "source": [
    "#include <string>\n",
    "\n",
    "void pruebaPorValor(std::string p){\n",
    "    p = \"perro\";\n",
    "}"
   ]
  },
  {
   "cell_type": "markdown",
   "metadata": {},
   "source": [
    "la función `pruebaPorReferencia()` es una función cuyo parámetro tiene un símbolo `&`. Esto indica que el argumento se pasa por referencia. Esto significa que toda modificación que se haga al parámetro se realizará en la variable pasada como argumento."
   ]
  },
  {
   "cell_type": "code",
   "execution_count": null,
   "metadata": {
    "vscode": {
     "languageId": "cpp"
    }
   },
   "outputs": [],
   "source": [
    "#include <string>\n",
    "\n",
    "void pruebaPorReferencia(std::string& p){\n",
    "    p = \"perro\";\n",
    "}"
   ]
  },
  {
   "cell_type": "markdown",
   "metadata": {},
   "source": [
    "Si se utiliza la función `pruebaPorValor()`, se observa que el contenido de la variable se mantiene en el ámbito donde fue asignada:"
   ]
  },
  {
   "cell_type": "code",
   "execution_count": null,
   "metadata": {
    "vscode": {
     "languageId": "cpp"
    }
   },
   "outputs": [],
   "source": [
    "#include <iostream>\n",
    "std::string mascota;\n",
    "\n",
    "mascota = \"gato\";\n",
    "pruebaPorValor(mascota);\n",
    "std::cout << mascota << \"\\n\";"
   ]
  },
  {
   "cell_type": "markdown",
   "metadata": {},
   "source": [
    "En cambio, Si se utiliza la función `pruebaPorReferencia()`, se observa que el contenido de la variable se modifica según la lógica de función llamada:"
   ]
  },
  {
   "cell_type": "code",
   "execution_count": null,
   "metadata": {
    "vscode": {
     "languageId": "cpp"
    }
   },
   "outputs": [],
   "source": [
    "#include <iostream>\n",
    "std::string mascota;\n",
    "\n",
    "mascota = \"gato\";\n",
    "pruebaPorReferencia(mascota);\n",
    "std::cout << mascota << \"\\n\";"
   ]
  }
 ],
 "metadata": {
  "kernelspec": {
   "display_name": "C++17",
   "language": "C++17",
   "name": "xcpp17"
  },
  "language_info": {
   "codemirror_mode": "text/x-c++src",
   "file_extension": ".cpp",
   "mimetype": "text/x-c++src",
   "name": "c++",
   "version": "17"
  }
 },
 "nbformat": 4,
 "nbformat_minor": 2
}
