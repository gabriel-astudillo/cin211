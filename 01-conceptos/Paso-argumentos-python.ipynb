{
 "cells": [
  {
   "cell_type": "markdown",
   "metadata": {},
   "source": [
    "# Paso de argumentos a funciones: caso Python"
   ]
  },
  {
   "cell_type": "markdown",
   "metadata": {},
   "source": [
    "<figure>\n",
    "<center>\n",
    "    <img src=\"https://i.sstatic.net/8XAQ1.gif\" width=\"60%\">\n",
    "    </center>\n",
    "</figure>"
   ]
  },
  {
   "cell_type": "markdown",
   "metadata": {},
   "source": [
    "## Paso por valor"
   ]
  },
  {
   "cell_type": "markdown",
   "metadata": {},
   "source": [
    "En el paso por valor, se pasa una **copia** del contenido de la variable que es el argumento a una función determinada. Esto significa que cualquier modificación realizada dentro de la función no afecta al argumento original. "
   ]
  },
  {
   "cell_type": "markdown",
   "metadata": {},
   "source": [
    "**Ejemplo**: se crea una función que dado un número entero, le suma 10."
   ]
  },
  {
   "cell_type": "code",
   "execution_count": 26,
   "metadata": {},
   "outputs": [],
   "source": [
    "def modificaNumero(n: int ):\n",
    "    n = n + 10"
   ]
  },
  {
   "cell_type": "markdown",
   "metadata": {},
   "source": [
    "Debe recordar que la variable `n`en la función `modificarNumero`es una variable **local**. Esto significada que fuera del ámbito de la función, esa variable no se puede utilizar, en el sentido de acceder a su contenido.\n",
    "\n",
    "Suponga ahora que la función anterior se llama desde otra parte del programa. Para realizar la prueba de concepto, se crea una variable `num` con cierto valor y se pasa a la función creada."
   ]
  },
  {
   "cell_type": "code",
   "execution_count": 27,
   "metadata": {},
   "outputs": [
    {
     "name": "stdout",
     "output_type": "stream",
     "text": [
      "Valor de num en el llamador: 100\n"
     ]
    }
   ],
   "source": [
    "num: int\n",
    "num = 100;\n",
    "\n",
    "modificaNumero(num);\n",
    "print(f\"Valor de num en el llamador: {num}\")"
   ]
  },
  {
   "cell_type": "markdown",
   "metadata": {},
   "source": [
    "En Python, todos los datos inmutables (`int`, `float`, `bool`,`str`,`tuple`) se pasan por valor."
   ]
  },
  {
   "cell_type": "markdown",
   "metadata": {},
   "source": [
    "## Paso por referencia"
   ]
  },
  {
   "cell_type": "markdown",
   "metadata": {},
   "source": [
    "En el paso por referencia, se pasa una referencia a la variable que se carga en el argumento original, lo que permite que la función modifique el valor de la variable original.\n",
    "\n",
    "Esto es útil, especialmente cuando se quiere procesar una variable con gran cantidad de datos.\n",
    "\n",
    "Evita el tiempo que demora en copiarse. Además, mantiene la cantidad de memoria utilizada por el programa."
   ]
  },
  {
   "cell_type": "markdown",
   "metadata": {},
   "source": [
    "En Python, los objetos mutables (como listas, diccionarios y clases) se pasan por referencia."
   ]
  },
  {
   "cell_type": "code",
   "execution_count": 8,
   "metadata": {},
   "outputs": [
    {
     "name": "stdout",
     "output_type": "stream",
     "text": [
      "miLista antes de llamar a la función: [1, 2, 3]\n",
      "miLista despues de llamar a la función: [1, 2, 3, 4]\n"
     ]
    }
   ],
   "source": [
    "def modificarLista(listaNumero: list):\n",
    "  listaNumero.append(4)  \n",
    "  # Modifica la lista original\n",
    "\n",
    "miLista = [1, 2, 3]\n",
    "print(\"miLista antes de llamar a la función:\", miLista)  \n",
    "modificarLista(miLista)\n",
    "print(\"miLista despues de llamar a la función:\", miLista)  \n",
    "# Salida: La lista es: [1, 2, 3, 4]"
   ]
  },
  {
   "cell_type": "markdown",
   "metadata": {},
   "source": [
    "Debe observar que la variable `listaNumero` es una variable **local** en la función `modificarLista()`."
   ]
  },
  {
   "cell_type": "markdown",
   "metadata": {},
   "source": [
    "El mismo sistema de paso de argumentos se tiene con objetos."
   ]
  },
  {
   "cell_type": "code",
   "execution_count": 25,
   "metadata": {},
   "outputs": [
    {
     "name": "stdout",
     "output_type": "stream",
     "text": [
      "frozen\n"
     ]
    }
   ],
   "source": [
    "class Perro:\n",
    "    def __init__(self, nombre: str):\n",
    "        self.nombre = nombre\n",
    "        \n",
    "\n",
    "def prueba(p: Perro):\n",
    "    p.nombre = \"frozen\"\n",
    "\n",
    "miPerro = Perro(\"Inti\")\n",
    "prueba(miPerro)\n",
    "print(miPerro.nombre)\n"
   ]
  }
 ],
 "metadata": {
  "kernelspec": {
   "display_name": "Python 3 (ipykernel)",
   "language": "python",
   "name": "python3"
  },
  "language_info": {
   "codemirror_mode": {
    "name": "ipython",
    "version": 3
   },
   "file_extension": ".py",
   "mimetype": "text/x-python",
   "name": "python",
   "nbconvert_exporter": "python",
   "pygments_lexer": "ipython3",
   "version": "3.10.12"
  }
 },
 "nbformat": 4,
 "nbformat_minor": 2
}
