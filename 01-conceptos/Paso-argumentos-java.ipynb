{
 "cells": [
  {
   "cell_type": "markdown",
   "metadata": {},
   "source": [
    "# Paso de argumentos a funciones: caso Java"
   ]
  },
  {
   "cell_type": "markdown",
   "metadata": {},
   "source": [
    "<figure>\n",
    "<center>\n",
    "    <img src=\"https://i.sstatic.net/8XAQ1.gif\" width=\"60%\">\n",
    "    </center>\n",
    "</figure>"
   ]
  },
  {
   "cell_type": "markdown",
   "metadata": {},
   "source": [
    "## Paso por valor"
   ]
  },
  {
   "cell_type": "markdown",
   "metadata": {},
   "source": [
    "En el paso por valor, se pasa una **copia** del contenido de la variable que es el argumento a una función determinada. Esto significa que cualquier modificación realizada dentro de la función no afecta al argumento original. "
   ]
  },
  {
   "cell_type": "markdown",
   "metadata": {},
   "source": [
    "**Ejemplo**: se crea una función que dado un número entero, le suma 10."
   ]
  },
  {
   "cell_type": "code",
   "execution_count": 1,
   "metadata": {
    "vscode": {
     "languageId": "java"
    }
   },
   "outputs": [],
   "source": [
    "void modificaNumero(int n){\n",
    "    n = n + 10;\n",
    "}"
   ]
  },
  {
   "cell_type": "markdown",
   "metadata": {},
   "source": [
    "Debe recordar que la variable `n`en la función `modificarNumero`es una variable **local**. Esto significada que fuera del ámbito de las llaves `{}`, esa variable no se puede utilizar, en el sentido de acceder a su contenido.\n",
    "\n",
    "Suponga ahora que la función anterior se llama desde otra parte del programa. Para realizar la prueba de concepto, se crea una variable `num` con cierto valor y se pasa a la función creada."
   ]
  },
  {
   "cell_type": "code",
   "execution_count": null,
   "metadata": {
    "vscode": {
     "languageId": "java"
    }
   },
   "outputs": [],
   "source": [
    "int num = 100;\n",
    "\n",
    "modificaNumero(num);\n",
    "System.out.println(\"Valor de num en el llamador: \" + num);"
   ]
  },
  {
   "cell_type": "markdown",
   "metadata": {},
   "source": [
    "En Java, todos los datos primitivos (`int`, `float`,`double`,`boolean`, `String`) se pasan por valor."
   ]
  },
  {
   "cell_type": "markdown",
   "metadata": {},
   "source": [
    "## Paso por referencia"
   ]
  },
  {
   "cell_type": "markdown",
   "metadata": {},
   "source": [
    "En el paso por referencia, se pasa una referencia a la variable que se carga en el argumento original, lo que permite que la función modifique el valor de la variable original. Esto es útil, especialmente cuando se quiere procesar una variable con gran cantidad de datos. Evita el tiempo que demora en copiarse. Además, mantiene la cantidad de memoria utilizada por el programa.\n",
    "\n",
    "En Java, sólo los objetos y arreglos son pasados por referencia. Por ejemplo, considere la siguiente clase `Persona`, la que supone que una persona tiene sólo una característica, que es su `nombre`."
   ]
  },
  {
   "cell_type": "code",
   "execution_count": 2,
   "metadata": {
    "vscode": {
     "languageId": "java"
    }
   },
   "outputs": [],
   "source": [
    "class Persona{\n",
    "    String nombre;\n",
    "\n",
    "    Persona(String nombre) {\n",
    "        this.nombre = nombre;\n",
    "    }\n",
    "}"
   ]
  },
  {
   "cell_type": "markdown",
   "metadata": {},
   "source": [
    "También, considere que una función que a toda persona le coloca el nombre \"Juan\":"
   ]
  },
  {
   "cell_type": "code",
   "execution_count": 3,
   "metadata": {
    "vscode": {
     "languageId": "java"
    }
   },
   "outputs": [],
   "source": [
    "void cambiarNombre(Persona p){\n",
    "    p.nombre = \"Juan\";\n",
    "  }  "
   ]
  },
  {
   "cell_type": "markdown",
   "metadata": {},
   "source": [
    "Debido a que el parámetro `p` es un objeto `Persona`, Java pasa el argumento como una referencia a la variable asociada al argumento. Debido a esto, independiente del nombre que tenga la persona `p`, una vez llamada a la función, su nombre será *Juan*:"
   ]
  },
  {
   "cell_type": "code",
   "execution_count": null,
   "metadata": {
    "vscode": {
     "languageId": "java"
    }
   },
   "outputs": [],
   "source": [
    "Persona empleado01 = new Persona(\"Luis\");\n",
    "System.out.println(empleado01.nombre);\n",
    "\n",
    "cambiarNombre(empleado01);\n",
    "System.out.println(\"Después de llamar a la función...\");\n",
    "System.out.println(empleado01.nombre);\n"
   ]
  },
  {
   "cell_type": "markdown",
   "metadata": {},
   "source": [
    "Suponga que tiene una función cuyo parámetro es un arreglo. En este caso, de enteros."
   ]
  },
  {
   "cell_type": "code",
   "execution_count": 7,
   "metadata": {
    "vscode": {
     "languageId": "java"
    }
   },
   "outputs": [],
   "source": [
    "void modificarArreglo(int[] miArreglo) {\n",
    "    miArreglo[0] = 11;\n",
    "}"
   ]
  },
  {
   "cell_type": "markdown",
   "metadata": {},
   "source": [
    "Debido a que el parámetro es un arreglo, Java pasa la referencia a la  variable asociada al argumento. Para probar esto, se crea un pequeño programa que crea un arreglo de enteros y que luego llama a la función `modificarArreglo()`."
   ]
  },
  {
   "cell_type": "code",
   "execution_count": null,
   "metadata": {
    "vscode": {
     "languageId": "java"
    }
   },
   "outputs": [],
   "source": [
    "// crear un arreglo de enteros de 5 posiciones\n",
    "int[] misNumeros = new int[5];\n",
    "         \n",
    "// Se asignan valores\n",
    "misNumeros[0] = 10;\n",
    "misNumeros[1] = 20;\n",
    "misNumeros[2] = 30;\n",
    "misNumeros[3] = 40;\n",
    "misNumeros[4] = 50;\n",
    "\n",
    "System.out.println(\"Antes de llamar a la función\");\n",
    "for (int numero: misNumeros) {\n",
    "    System.out.println(numero);\n",
    "}\n",
    "\n",
    "// Se llama a la función\n",
    "modificarArreglo(misNumeros);\n",
    "\n",
    "System.out.println(\"Después de llamar a la función\");\n",
    "for (int numero: misNumeros) {\n",
    "    System.out.println(numero);\n",
    "}"
   ]
  }
 ],
 "metadata": {
  "kernelspec": {
   "display_name": "Java",
   "language": "java",
   "name": "java"
  },
  "language_info": {
   "codemirror_mode": "java",
   "file_extension": ".jshell",
   "mimetype": "text/x-java-source",
   "name": "Java",
   "pygments_lexer": "java",
   "version": "11.0.25+9-post-Ubuntu-1ubuntu122.04"
  }
 },
 "nbformat": 4,
 "nbformat_minor": 2
}
